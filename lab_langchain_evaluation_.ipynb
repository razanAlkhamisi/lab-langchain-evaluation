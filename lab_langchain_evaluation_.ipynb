{
  "cells": [
    {
      "cell_type": "markdown",
      "id": "1b00dae2-c271-4a69-a579-742e084a9058",
      "metadata": {
        "id": "1b00dae2-c271-4a69-a579-742e084a9058"
      },
      "source": [
        "# Lab | Langchain Evaluation\n",
        "\n",
        "## Intro\n",
        "\n",
        "Pick different sets of data and re-run this notebook. The point is for you to understand all steps involve and the many different ways one can and should evaluate LLM applications.\n",
        "\n",
        "What did you learn? - Let's discuss that in class"
      ]
    },
    {
      "cell_type": "markdown",
      "id": "52824b89-532a-4e54-87e9-1410813cd39e",
      "metadata": {
        "id": "52824b89-532a-4e54-87e9-1410813cd39e"
      },
      "source": [
        "## LangChain: Evaluation\n",
        "\n",
        "### Outline:\n",
        "\n",
        "* Example generation\n",
        "* Manual evaluation (and debuging)\n",
        "* LLM-assisted evaluation"
      ]
    },
    {
      "cell_type": "code",
      "source": [
        "!pip install numpy==1.26.4 --force-reinstall"
      ],
      "metadata": {
        "colab": {
          "base_uri": "https://localhost:8080/"
        },
        "id": "1bCBbjiaMnIX",
        "outputId": "08fb7c9e-a377-4d27-b2b5-c6f87fdedeac"
      },
      "id": "1bCBbjiaMnIX",
      "execution_count": 1,
      "outputs": [
        {
          "output_type": "stream",
          "name": "stdout",
          "text": [
            "Collecting numpy==1.26.4\n",
            "  Using cached numpy-1.26.4-cp311-cp311-manylinux_2_17_x86_64.manylinux2014_x86_64.whl.metadata (61 kB)\n",
            "Using cached numpy-1.26.4-cp311-cp311-manylinux_2_17_x86_64.manylinux2014_x86_64.whl (18.3 MB)\n",
            "Installing collected packages: numpy\n",
            "  Attempting uninstall: numpy\n",
            "    Found existing installation: numpy 1.26.4\n",
            "    Uninstalling numpy-1.26.4:\n",
            "      Successfully uninstalled numpy-1.26.4\n",
            "\u001b[31mERROR: pip's dependency resolver does not currently take into account all the packages that are installed. This behaviour is the source of the following dependency conflicts.\n",
            "thinc 8.3.6 requires numpy<3.0.0,>=2.0.0, but you have numpy 1.26.4 which is incompatible.\u001b[0m\u001b[31m\n",
            "\u001b[0mSuccessfully installed numpy-1.26.4\n"
          ]
        }
      ]
    },
    {
      "cell_type": "code",
      "source": [
        "!pip install dotenv"
      ],
      "metadata": {
        "colab": {
          "base_uri": "https://localhost:8080/"
        },
        "id": "dW3xePuH2cFb",
        "outputId": "1888711a-612f-40f5-da48-49450f6504dd"
      },
      "id": "dW3xePuH2cFb",
      "execution_count": 2,
      "outputs": [
        {
          "output_type": "stream",
          "name": "stdout",
          "text": [
            "Requirement already satisfied: dotenv in /usr/local/lib/python3.11/dist-packages (0.9.9)\n",
            "Requirement already satisfied: python-dotenv in /usr/local/lib/python3.11/dist-packages (from dotenv) (1.1.0)\n"
          ]
        }
      ]
    },
    {
      "cell_type": "code",
      "source": [
        "!pip install docarray"
      ],
      "metadata": {
        "colab": {
          "base_uri": "https://localhost:8080/"
        },
        "id": "vHzoDPCiMrlw",
        "outputId": "2cdcc2cf-52cc-4c51-8d4a-7a8dc08eb6e9"
      },
      "id": "vHzoDPCiMrlw",
      "execution_count": 3,
      "outputs": [
        {
          "output_type": "stream",
          "name": "stdout",
          "text": [
            "Requirement already satisfied: docarray in /usr/local/lib/python3.11/dist-packages (0.41.0)\n",
            "Requirement already satisfied: numpy>=1.17.3 in /usr/local/lib/python3.11/dist-packages (from docarray) (1.26.4)\n",
            "Requirement already satisfied: orjson>=3.8.2 in /usr/local/lib/python3.11/dist-packages (from docarray) (3.10.16)\n",
            "Requirement already satisfied: pydantic>=1.10.8 in /usr/local/lib/python3.11/dist-packages (from docarray) (2.11.3)\n",
            "Requirement already satisfied: rich>=13.1.0 in /usr/local/lib/python3.11/dist-packages (from docarray) (13.9.4)\n",
            "Requirement already satisfied: types-requests>=2.28.11.6 in /usr/local/lib/python3.11/dist-packages (from docarray) (2.32.0.20250328)\n",
            "Requirement already satisfied: typing-inspect>=0.8.0 in /usr/local/lib/python3.11/dist-packages (from docarray) (0.9.0)\n",
            "Requirement already satisfied: annotated-types>=0.6.0 in /usr/local/lib/python3.11/dist-packages (from pydantic>=1.10.8->docarray) (0.7.0)\n",
            "Requirement already satisfied: pydantic-core==2.33.1 in /usr/local/lib/python3.11/dist-packages (from pydantic>=1.10.8->docarray) (2.33.1)\n",
            "Requirement already satisfied: typing-extensions>=4.12.2 in /usr/local/lib/python3.11/dist-packages (from pydantic>=1.10.8->docarray) (4.13.2)\n",
            "Requirement already satisfied: typing-inspection>=0.4.0 in /usr/local/lib/python3.11/dist-packages (from pydantic>=1.10.8->docarray) (0.4.0)\n",
            "Requirement already satisfied: markdown-it-py>=2.2.0 in /usr/local/lib/python3.11/dist-packages (from rich>=13.1.0->docarray) (3.0.0)\n",
            "Requirement already satisfied: pygments<3.0.0,>=2.13.0 in /usr/local/lib/python3.11/dist-packages (from rich>=13.1.0->docarray) (2.18.0)\n",
            "Requirement already satisfied: urllib3>=2 in /usr/local/lib/python3.11/dist-packages (from types-requests>=2.28.11.6->docarray) (2.3.0)\n",
            "Requirement already satisfied: mypy-extensions>=0.3.0 in /usr/local/lib/python3.11/dist-packages (from typing-inspect>=0.8.0->docarray) (1.1.0)\n",
            "Requirement already satisfied: mdurl~=0.1 in /usr/local/lib/python3.11/dist-packages (from markdown-it-py>=2.2.0->rich>=13.1.0->docarray) (0.1.2)\n"
          ]
        }
      ]
    },
    {
      "cell_type": "code",
      "source": [
        "!pip install langchain_openai"
      ],
      "metadata": {
        "colab": {
          "base_uri": "https://localhost:8080/"
        },
        "id": "fX2L8sUB3Iub",
        "outputId": "11fbfb34-4165-4807-d623-4fa6dde36ba5"
      },
      "id": "fX2L8sUB3Iub",
      "execution_count": 4,
      "outputs": [
        {
          "output_type": "stream",
          "name": "stdout",
          "text": [
            "Requirement already satisfied: langchain_openai in /usr/local/lib/python3.11/dist-packages (0.3.14)\n",
            "Requirement already satisfied: langchain-core<1.0.0,>=0.3.53 in /usr/local/lib/python3.11/dist-packages (from langchain_openai) (0.3.55)\n",
            "Requirement already satisfied: openai<2.0.0,>=1.68.2 in /usr/local/lib/python3.11/dist-packages (from langchain_openai) (1.75.0)\n",
            "Requirement already satisfied: tiktoken<1,>=0.7 in /usr/local/lib/python3.11/dist-packages (from langchain_openai) (0.9.0)\n",
            "Requirement already satisfied: langsmith<0.4,>=0.1.125 in /usr/local/lib/python3.11/dist-packages (from langchain-core<1.0.0,>=0.3.53->langchain_openai) (0.3.33)\n",
            "Requirement already satisfied: tenacity!=8.4.0,<10.0.0,>=8.1.0 in /usr/local/lib/python3.11/dist-packages (from langchain-core<1.0.0,>=0.3.53->langchain_openai) (9.1.2)\n",
            "Requirement already satisfied: jsonpatch<2.0,>=1.33 in /usr/local/lib/python3.11/dist-packages (from langchain-core<1.0.0,>=0.3.53->langchain_openai) (1.33)\n",
            "Requirement already satisfied: PyYAML>=5.3 in /usr/local/lib/python3.11/dist-packages (from langchain-core<1.0.0,>=0.3.53->langchain_openai) (6.0.2)\n",
            "Requirement already satisfied: packaging<25,>=23.2 in /usr/local/lib/python3.11/dist-packages (from langchain-core<1.0.0,>=0.3.53->langchain_openai) (24.2)\n",
            "Requirement already satisfied: typing-extensions>=4.7 in /usr/local/lib/python3.11/dist-packages (from langchain-core<1.0.0,>=0.3.53->langchain_openai) (4.13.2)\n",
            "Requirement already satisfied: pydantic<3.0.0,>=2.5.2 in /usr/local/lib/python3.11/dist-packages (from langchain-core<1.0.0,>=0.3.53->langchain_openai) (2.11.3)\n",
            "Requirement already satisfied: anyio<5,>=3.5.0 in /usr/local/lib/python3.11/dist-packages (from openai<2.0.0,>=1.68.2->langchain_openai) (4.9.0)\n",
            "Requirement already satisfied: distro<2,>=1.7.0 in /usr/local/lib/python3.11/dist-packages (from openai<2.0.0,>=1.68.2->langchain_openai) (1.9.0)\n",
            "Requirement already satisfied: httpx<1,>=0.23.0 in /usr/local/lib/python3.11/dist-packages (from openai<2.0.0,>=1.68.2->langchain_openai) (0.28.1)\n",
            "Requirement already satisfied: jiter<1,>=0.4.0 in /usr/local/lib/python3.11/dist-packages (from openai<2.0.0,>=1.68.2->langchain_openai) (0.9.0)\n",
            "Requirement already satisfied: sniffio in /usr/local/lib/python3.11/dist-packages (from openai<2.0.0,>=1.68.2->langchain_openai) (1.3.1)\n",
            "Requirement already satisfied: tqdm>4 in /usr/local/lib/python3.11/dist-packages (from openai<2.0.0,>=1.68.2->langchain_openai) (4.67.1)\n",
            "Requirement already satisfied: regex>=2022.1.18 in /usr/local/lib/python3.11/dist-packages (from tiktoken<1,>=0.7->langchain_openai) (2024.11.6)\n",
            "Requirement already satisfied: requests>=2.26.0 in /usr/local/lib/python3.11/dist-packages (from tiktoken<1,>=0.7->langchain_openai) (2.32.3)\n",
            "Requirement already satisfied: idna>=2.8 in /usr/local/lib/python3.11/dist-packages (from anyio<5,>=3.5.0->openai<2.0.0,>=1.68.2->langchain_openai) (3.10)\n",
            "Requirement already satisfied: certifi in /usr/local/lib/python3.11/dist-packages (from httpx<1,>=0.23.0->openai<2.0.0,>=1.68.2->langchain_openai) (2025.1.31)\n",
            "Requirement already satisfied: httpcore==1.* in /usr/local/lib/python3.11/dist-packages (from httpx<1,>=0.23.0->openai<2.0.0,>=1.68.2->langchain_openai) (1.0.8)\n",
            "Requirement already satisfied: h11<0.15,>=0.13 in /usr/local/lib/python3.11/dist-packages (from httpcore==1.*->httpx<1,>=0.23.0->openai<2.0.0,>=1.68.2->langchain_openai) (0.14.0)\n",
            "Requirement already satisfied: jsonpointer>=1.9 in /usr/local/lib/python3.11/dist-packages (from jsonpatch<2.0,>=1.33->langchain-core<1.0.0,>=0.3.53->langchain_openai) (3.0.0)\n",
            "Requirement already satisfied: orjson<4.0.0,>=3.9.14 in /usr/local/lib/python3.11/dist-packages (from langsmith<0.4,>=0.1.125->langchain-core<1.0.0,>=0.3.53->langchain_openai) (3.10.16)\n",
            "Requirement already satisfied: requests-toolbelt<2.0.0,>=1.0.0 in /usr/local/lib/python3.11/dist-packages (from langsmith<0.4,>=0.1.125->langchain-core<1.0.0,>=0.3.53->langchain_openai) (1.0.0)\n",
            "Requirement already satisfied: zstandard<0.24.0,>=0.23.0 in /usr/local/lib/python3.11/dist-packages (from langsmith<0.4,>=0.1.125->langchain-core<1.0.0,>=0.3.53->langchain_openai) (0.23.0)\n",
            "Requirement already satisfied: annotated-types>=0.6.0 in /usr/local/lib/python3.11/dist-packages (from pydantic<3.0.0,>=2.5.2->langchain-core<1.0.0,>=0.3.53->langchain_openai) (0.7.0)\n",
            "Requirement already satisfied: pydantic-core==2.33.1 in /usr/local/lib/python3.11/dist-packages (from pydantic<3.0.0,>=2.5.2->langchain-core<1.0.0,>=0.3.53->langchain_openai) (2.33.1)\n",
            "Requirement already satisfied: typing-inspection>=0.4.0 in /usr/local/lib/python3.11/dist-packages (from pydantic<3.0.0,>=2.5.2->langchain-core<1.0.0,>=0.3.53->langchain_openai) (0.4.0)\n",
            "Requirement already satisfied: charset-normalizer<4,>=2 in /usr/local/lib/python3.11/dist-packages (from requests>=2.26.0->tiktoken<1,>=0.7->langchain_openai) (3.4.1)\n",
            "Requirement already satisfied: urllib3<3,>=1.21.1 in /usr/local/lib/python3.11/dist-packages (from requests>=2.26.0->tiktoken<1,>=0.7->langchain_openai) (2.3.0)\n"
          ]
        }
      ]
    },
    {
      "cell_type": "code",
      "source": [
        "!pip install langchain_community"
      ],
      "metadata": {
        "colab": {
          "base_uri": "https://localhost:8080/"
        },
        "id": "OE_Db5dL3U48",
        "outputId": "605196bd-630e-499d-daa5-8fb0699e46d1"
      },
      "id": "OE_Db5dL3U48",
      "execution_count": 5,
      "outputs": [
        {
          "output_type": "stream",
          "name": "stdout",
          "text": [
            "Requirement already satisfied: langchain_community in /usr/local/lib/python3.11/dist-packages (0.3.22)\n",
            "Requirement already satisfied: langchain-core<1.0.0,>=0.3.55 in /usr/local/lib/python3.11/dist-packages (from langchain_community) (0.3.55)\n",
            "Requirement already satisfied: langchain<1.0.0,>=0.3.24 in /usr/local/lib/python3.11/dist-packages (from langchain_community) (0.3.24)\n",
            "Requirement already satisfied: SQLAlchemy<3,>=1.4 in /usr/local/lib/python3.11/dist-packages (from langchain_community) (2.0.40)\n",
            "Requirement already satisfied: requests<3,>=2 in /usr/local/lib/python3.11/dist-packages (from langchain_community) (2.32.3)\n",
            "Requirement already satisfied: PyYAML>=5.3 in /usr/local/lib/python3.11/dist-packages (from langchain_community) (6.0.2)\n",
            "Requirement already satisfied: aiohttp<4.0.0,>=3.8.3 in /usr/local/lib/python3.11/dist-packages (from langchain_community) (3.11.15)\n",
            "Requirement already satisfied: tenacity!=8.4.0,<10,>=8.1.0 in /usr/local/lib/python3.11/dist-packages (from langchain_community) (9.1.2)\n",
            "Requirement already satisfied: dataclasses-json<0.7,>=0.5.7 in /usr/local/lib/python3.11/dist-packages (from langchain_community) (0.6.7)\n",
            "Requirement already satisfied: pydantic-settings<3.0.0,>=2.4.0 in /usr/local/lib/python3.11/dist-packages (from langchain_community) (2.9.1)\n",
            "Requirement already satisfied: langsmith<0.4,>=0.1.125 in /usr/local/lib/python3.11/dist-packages (from langchain_community) (0.3.33)\n",
            "Requirement already satisfied: httpx-sse<1.0.0,>=0.4.0 in /usr/local/lib/python3.11/dist-packages (from langchain_community) (0.4.0)\n",
            "Requirement already satisfied: numpy>=1.26.2 in /usr/local/lib/python3.11/dist-packages (from langchain_community) (1.26.4)\n",
            "Requirement already satisfied: aiohappyeyeballs>=2.3.0 in /usr/local/lib/python3.11/dist-packages (from aiohttp<4.0.0,>=3.8.3->langchain_community) (2.6.1)\n",
            "Requirement already satisfied: aiosignal>=1.1.2 in /usr/local/lib/python3.11/dist-packages (from aiohttp<4.0.0,>=3.8.3->langchain_community) (1.3.2)\n",
            "Requirement already satisfied: attrs>=17.3.0 in /usr/local/lib/python3.11/dist-packages (from aiohttp<4.0.0,>=3.8.3->langchain_community) (25.3.0)\n",
            "Requirement already satisfied: frozenlist>=1.1.1 in /usr/local/lib/python3.11/dist-packages (from aiohttp<4.0.0,>=3.8.3->langchain_community) (1.6.0)\n",
            "Requirement already satisfied: multidict<7.0,>=4.5 in /usr/local/lib/python3.11/dist-packages (from aiohttp<4.0.0,>=3.8.3->langchain_community) (6.4.3)\n",
            "Requirement already satisfied: propcache>=0.2.0 in /usr/local/lib/python3.11/dist-packages (from aiohttp<4.0.0,>=3.8.3->langchain_community) (0.3.1)\n",
            "Requirement already satisfied: yarl<2.0,>=1.17.0 in /usr/local/lib/python3.11/dist-packages (from aiohttp<4.0.0,>=3.8.3->langchain_community) (1.20.0)\n",
            "Requirement already satisfied: marshmallow<4.0.0,>=3.18.0 in /usr/local/lib/python3.11/dist-packages (from dataclasses-json<0.7,>=0.5.7->langchain_community) (3.26.1)\n",
            "Requirement already satisfied: typing-inspect<1,>=0.4.0 in /usr/local/lib/python3.11/dist-packages (from dataclasses-json<0.7,>=0.5.7->langchain_community) (0.9.0)\n",
            "Requirement already satisfied: langchain-text-splitters<1.0.0,>=0.3.8 in /usr/local/lib/python3.11/dist-packages (from langchain<1.0.0,>=0.3.24->langchain_community) (0.3.8)\n",
            "Requirement already satisfied: pydantic<3.0.0,>=2.7.4 in /usr/local/lib/python3.11/dist-packages (from langchain<1.0.0,>=0.3.24->langchain_community) (2.11.3)\n",
            "Requirement already satisfied: jsonpatch<2.0,>=1.33 in /usr/local/lib/python3.11/dist-packages (from langchain-core<1.0.0,>=0.3.55->langchain_community) (1.33)\n",
            "Requirement already satisfied: packaging<25,>=23.2 in /usr/local/lib/python3.11/dist-packages (from langchain-core<1.0.0,>=0.3.55->langchain_community) (24.2)\n",
            "Requirement already satisfied: typing-extensions>=4.7 in /usr/local/lib/python3.11/dist-packages (from langchain-core<1.0.0,>=0.3.55->langchain_community) (4.13.2)\n",
            "Requirement already satisfied: httpx<1,>=0.23.0 in /usr/local/lib/python3.11/dist-packages (from langsmith<0.4,>=0.1.125->langchain_community) (0.28.1)\n",
            "Requirement already satisfied: orjson<4.0.0,>=3.9.14 in /usr/local/lib/python3.11/dist-packages (from langsmith<0.4,>=0.1.125->langchain_community) (3.10.16)\n",
            "Requirement already satisfied: requests-toolbelt<2.0.0,>=1.0.0 in /usr/local/lib/python3.11/dist-packages (from langsmith<0.4,>=0.1.125->langchain_community) (1.0.0)\n",
            "Requirement already satisfied: zstandard<0.24.0,>=0.23.0 in /usr/local/lib/python3.11/dist-packages (from langsmith<0.4,>=0.1.125->langchain_community) (0.23.0)\n",
            "Requirement already satisfied: python-dotenv>=0.21.0 in /usr/local/lib/python3.11/dist-packages (from pydantic-settings<3.0.0,>=2.4.0->langchain_community) (1.1.0)\n",
            "Requirement already satisfied: typing-inspection>=0.4.0 in /usr/local/lib/python3.11/dist-packages (from pydantic-settings<3.0.0,>=2.4.0->langchain_community) (0.4.0)\n",
            "Requirement already satisfied: charset-normalizer<4,>=2 in /usr/local/lib/python3.11/dist-packages (from requests<3,>=2->langchain_community) (3.4.1)\n",
            "Requirement already satisfied: idna<4,>=2.5 in /usr/local/lib/python3.11/dist-packages (from requests<3,>=2->langchain_community) (3.10)\n",
            "Requirement already satisfied: urllib3<3,>=1.21.1 in /usr/local/lib/python3.11/dist-packages (from requests<3,>=2->langchain_community) (2.3.0)\n",
            "Requirement already satisfied: certifi>=2017.4.17 in /usr/local/lib/python3.11/dist-packages (from requests<3,>=2->langchain_community) (2025.1.31)\n",
            "Requirement already satisfied: greenlet>=1 in /usr/local/lib/python3.11/dist-packages (from SQLAlchemy<3,>=1.4->langchain_community) (3.2.1)\n",
            "Requirement already satisfied: anyio in /usr/local/lib/python3.11/dist-packages (from httpx<1,>=0.23.0->langsmith<0.4,>=0.1.125->langchain_community) (4.9.0)\n",
            "Requirement already satisfied: httpcore==1.* in /usr/local/lib/python3.11/dist-packages (from httpx<1,>=0.23.0->langsmith<0.4,>=0.1.125->langchain_community) (1.0.8)\n",
            "Requirement already satisfied: h11<0.15,>=0.13 in /usr/local/lib/python3.11/dist-packages (from httpcore==1.*->httpx<1,>=0.23.0->langsmith<0.4,>=0.1.125->langchain_community) (0.14.0)\n",
            "Requirement already satisfied: jsonpointer>=1.9 in /usr/local/lib/python3.11/dist-packages (from jsonpatch<2.0,>=1.33->langchain-core<1.0.0,>=0.3.55->langchain_community) (3.0.0)\n",
            "Requirement already satisfied: annotated-types>=0.6.0 in /usr/local/lib/python3.11/dist-packages (from pydantic<3.0.0,>=2.7.4->langchain<1.0.0,>=0.3.24->langchain_community) (0.7.0)\n",
            "Requirement already satisfied: pydantic-core==2.33.1 in /usr/local/lib/python3.11/dist-packages (from pydantic<3.0.0,>=2.7.4->langchain<1.0.0,>=0.3.24->langchain_community) (2.33.1)\n",
            "Requirement already satisfied: mypy-extensions>=0.3.0 in /usr/local/lib/python3.11/dist-packages (from typing-inspect<1,>=0.4.0->dataclasses-json<0.7,>=0.5.7->langchain_community) (1.1.0)\n",
            "Requirement already satisfied: sniffio>=1.1 in /usr/local/lib/python3.11/dist-packages (from anyio->httpx<1,>=0.23.0->langsmith<0.4,>=0.1.125->langchain_community) (1.3.1)\n"
          ]
        }
      ]
    },
    {
      "cell_type": "code",
      "source": [
        "!pip uninstall -y torch torchvision torchaudio\n",
        "!pip install torch==2.1.2 torchvision torchaudio --index-url https://download.pytorch.org/whl/cpu\n",
        "!pip install sentence-transformers\n"
      ],
      "metadata": {
        "colab": {
          "base_uri": "https://localhost:8080/"
        },
        "id": "2F7IPsz6E_QH",
        "outputId": "3b8840b7-b968-4d57-c72f-a572b5f7cf11"
      },
      "id": "2F7IPsz6E_QH",
      "execution_count": 6,
      "outputs": [
        {
          "output_type": "stream",
          "name": "stdout",
          "text": [
            "Found existing installation: torch 2.1.2+cpu\n",
            "Uninstalling torch-2.1.2+cpu:\n",
            "  Successfully uninstalled torch-2.1.2+cpu\n",
            "Found existing installation: torchvision 0.16.2+cpu\n",
            "Uninstalling torchvision-0.16.2+cpu:\n",
            "  Successfully uninstalled torchvision-0.16.2+cpu\n",
            "Found existing installation: torchaudio 2.1.2+cpu\n",
            "Uninstalling torchaudio-2.1.2+cpu:\n",
            "  Successfully uninstalled torchaudio-2.1.2+cpu\n",
            "Looking in indexes: https://download.pytorch.org/whl/cpu\n",
            "Collecting torch==2.1.2\n",
            "  Using cached https://download.pytorch.org/whl/cpu/torch-2.1.2%2Bcpu-cp311-cp311-linux_x86_64.whl (184.9 MB)\n",
            "Collecting torchvision\n",
            "  Using cached https://download.pytorch.org/whl/cpu/torchvision-0.22.0%2Bcpu-cp311-cp311-manylinux_2_28_x86_64.whl.metadata (6.1 kB)\n",
            "Collecting torchaudio\n",
            "  Using cached https://download.pytorch.org/whl/cpu/torchaudio-2.7.0%2Bcpu-cp311-cp311-manylinux_2_28_x86_64.whl.metadata (6.6 kB)\n",
            "Requirement already satisfied: filelock in /usr/local/lib/python3.11/dist-packages (from torch==2.1.2) (3.18.0)\n",
            "Requirement already satisfied: typing-extensions in /usr/local/lib/python3.11/dist-packages (from torch==2.1.2) (4.13.2)\n",
            "Requirement already satisfied: sympy in /usr/local/lib/python3.11/dist-packages (from torch==2.1.2) (1.13.3)\n",
            "Requirement already satisfied: networkx in /usr/local/lib/python3.11/dist-packages (from torch==2.1.2) (3.4.2)\n",
            "Requirement already satisfied: jinja2 in /usr/local/lib/python3.11/dist-packages (from torch==2.1.2) (3.1.6)\n",
            "Requirement already satisfied: fsspec in /usr/local/lib/python3.11/dist-packages (from torch==2.1.2) (2025.3.2)\n",
            "Requirement already satisfied: numpy in /usr/local/lib/python3.11/dist-packages (from torchvision) (1.26.4)\n",
            "INFO: pip is looking at multiple versions of torchvision to determine which version is compatible with other requirements. This could take a while.\n",
            "Collecting torchvision\n",
            "  Using cached https://download.pytorch.org/whl/cpu/torchvision-0.21.0%2Bcpu-cp311-cp311-linux_x86_64.whl.metadata (6.1 kB)\n",
            "  Using cached https://download.pytorch.org/whl/cpu/torchvision-0.20.1%2Bcpu-cp311-cp311-linux_x86_64.whl (1.8 MB)\n",
            "  Using cached https://download.pytorch.org/whl/cpu/torchvision-0.20.0%2Bcpu-cp311-cp311-linux_x86_64.whl (1.8 MB)\n",
            "  Using cached https://download.pytorch.org/whl/cpu/torchvision-0.19.1%2Bcpu-cp311-cp311-linux_x86_64.whl (1.6 MB)\n",
            "  Using cached https://download.pytorch.org/whl/cpu/torchvision-0.19.0%2Bcpu-cp311-cp311-linux_x86_64.whl (1.6 MB)\n",
            "  Using cached https://download.pytorch.org/whl/cpu/torchvision-0.18.1%2Bcpu-cp311-cp311-linux_x86_64.whl (1.6 MB)\n",
            "  Using cached https://download.pytorch.org/whl/cpu/torchvision-0.18.0%2Bcpu-cp311-cp311-linux_x86_64.whl (1.6 MB)\n",
            "INFO: pip is still looking at multiple versions of torchvision to determine which version is compatible with other requirements. This could take a while.\n",
            "  Using cached https://download.pytorch.org/whl/cpu/torchvision-0.17.2%2Bcpu-cp311-cp311-linux_x86_64.whl (1.6 MB)\n",
            "  Using cached https://download.pytorch.org/whl/cpu/torchvision-0.17.1%2Bcpu-cp311-cp311-linux_x86_64.whl (1.6 MB)\n",
            "  Using cached https://download.pytorch.org/whl/cpu/torchvision-0.17.0%2Bcpu-cp311-cp311-linux_x86_64.whl (1.6 MB)\n",
            "Requirement already satisfied: requests in /usr/local/lib/python3.11/dist-packages (from torchvision) (2.32.3)\n",
            "  Using cached https://download.pytorch.org/whl/cpu/torchvision-0.16.2%2Bcpu-cp311-cp311-linux_x86_64.whl (1.5 MB)\n",
            "Requirement already satisfied: pillow!=8.3.*,>=5.3.0 in /usr/local/lib/python3.11/dist-packages (from torchvision) (11.1.0)\n",
            "INFO: pip is looking at multiple versions of torchaudio to determine which version is compatible with other requirements. This could take a while.\n",
            "Collecting torchaudio\n",
            "  Using cached https://download.pytorch.org/whl/cpu/torchaudio-2.6.0%2Bcpu-cp311-cp311-linux_x86_64.whl.metadata (6.6 kB)\n",
            "  Using cached https://download.pytorch.org/whl/cpu/torchaudio-2.5.1%2Bcpu-cp311-cp311-linux_x86_64.whl (1.7 MB)\n",
            "  Using cached https://download.pytorch.org/whl/cpu/torchaudio-2.5.0%2Bcpu-cp311-cp311-linux_x86_64.whl (1.7 MB)\n",
            "  Using cached https://download.pytorch.org/whl/cpu/torchaudio-2.4.1%2Bcpu-cp311-cp311-linux_x86_64.whl (1.7 MB)\n",
            "  Using cached https://download.pytorch.org/whl/cpu/torchaudio-2.4.0%2Bcpu-cp311-cp311-linux_x86_64.whl (1.7 MB)\n",
            "  Using cached https://download.pytorch.org/whl/cpu/torchaudio-2.3.1%2Bcpu-cp311-cp311-linux_x86_64.whl (1.7 MB)\n",
            "  Using cached https://download.pytorch.org/whl/cpu/torchaudio-2.3.0%2Bcpu-cp311-cp311-linux_x86_64.whl (1.7 MB)\n",
            "INFO: pip is still looking at multiple versions of torchaudio to determine which version is compatible with other requirements. This could take a while.\n",
            "  Using cached https://download.pytorch.org/whl/cpu/torchaudio-2.2.2%2Bcpu-cp311-cp311-linux_x86_64.whl (1.7 MB)\n",
            "  Using cached https://download.pytorch.org/whl/cpu/torchaudio-2.2.1%2Bcpu-cp311-cp311-linux_x86_64.whl (1.7 MB)\n",
            "  Using cached https://download.pytorch.org/whl/cpu/torchaudio-2.2.0%2Bcpu-cp311-cp311-linux_x86_64.whl (1.7 MB)\n",
            "  Using cached https://download.pytorch.org/whl/cpu/torchaudio-2.1.2%2Bcpu-cp311-cp311-linux_x86_64.whl (1.6 MB)\n",
            "Requirement already satisfied: MarkupSafe>=2.0 in /usr/local/lib/python3.11/dist-packages (from jinja2->torch==2.1.2) (3.0.2)\n",
            "Requirement already satisfied: charset-normalizer<4,>=2 in /usr/local/lib/python3.11/dist-packages (from requests->torchvision) (3.4.1)\n",
            "Requirement already satisfied: idna<4,>=2.5 in /usr/local/lib/python3.11/dist-packages (from requests->torchvision) (3.10)\n",
            "Requirement already satisfied: urllib3<3,>=1.21.1 in /usr/local/lib/python3.11/dist-packages (from requests->torchvision) (2.3.0)\n",
            "Requirement already satisfied: certifi>=2017.4.17 in /usr/local/lib/python3.11/dist-packages (from requests->torchvision) (2025.1.31)\n",
            "Requirement already satisfied: mpmath<1.4,>=1.1.0 in /usr/local/lib/python3.11/dist-packages (from sympy->torch==2.1.2) (1.3.0)\n",
            "Installing collected packages: torch, torchvision, torchaudio\n",
            "Successfully installed torch-2.1.2+cpu torchaudio-2.1.2+cpu torchvision-0.16.2+cpu\n",
            "Requirement already satisfied: sentence-transformers in /usr/local/lib/python3.11/dist-packages (3.4.1)\n",
            "Requirement already satisfied: transformers<5.0.0,>=4.41.0 in /usr/local/lib/python3.11/dist-packages (from sentence-transformers) (4.51.3)\n",
            "Requirement already satisfied: tqdm in /usr/local/lib/python3.11/dist-packages (from sentence-transformers) (4.67.1)\n",
            "Requirement already satisfied: torch>=1.11.0 in /usr/local/lib/python3.11/dist-packages (from sentence-transformers) (2.1.2+cpu)\n",
            "Requirement already satisfied: scikit-learn in /usr/local/lib/python3.11/dist-packages (from sentence-transformers) (1.6.1)\n",
            "Requirement already satisfied: scipy in /usr/local/lib/python3.11/dist-packages (from sentence-transformers) (1.14.1)\n",
            "Requirement already satisfied: huggingface-hub>=0.20.0 in /usr/local/lib/python3.11/dist-packages (from sentence-transformers) (0.30.2)\n",
            "Requirement already satisfied: Pillow in /usr/local/lib/python3.11/dist-packages (from sentence-transformers) (11.1.0)\n",
            "Requirement already satisfied: filelock in /usr/local/lib/python3.11/dist-packages (from huggingface-hub>=0.20.0->sentence-transformers) (3.18.0)\n",
            "Requirement already satisfied: fsspec>=2023.5.0 in /usr/local/lib/python3.11/dist-packages (from huggingface-hub>=0.20.0->sentence-transformers) (2025.3.2)\n",
            "Requirement already satisfied: packaging>=20.9 in /usr/local/lib/python3.11/dist-packages (from huggingface-hub>=0.20.0->sentence-transformers) (24.2)\n",
            "Requirement already satisfied: pyyaml>=5.1 in /usr/local/lib/python3.11/dist-packages (from huggingface-hub>=0.20.0->sentence-transformers) (6.0.2)\n",
            "Requirement already satisfied: requests in /usr/local/lib/python3.11/dist-packages (from huggingface-hub>=0.20.0->sentence-transformers) (2.32.3)\n",
            "Requirement already satisfied: typing-extensions>=3.7.4.3 in /usr/local/lib/python3.11/dist-packages (from huggingface-hub>=0.20.0->sentence-transformers) (4.13.2)\n",
            "Requirement already satisfied: sympy in /usr/local/lib/python3.11/dist-packages (from torch>=1.11.0->sentence-transformers) (1.13.3)\n",
            "Requirement already satisfied: networkx in /usr/local/lib/python3.11/dist-packages (from torch>=1.11.0->sentence-transformers) (3.4.2)\n",
            "Requirement already satisfied: jinja2 in /usr/local/lib/python3.11/dist-packages (from torch>=1.11.0->sentence-transformers) (3.1.6)\n",
            "Requirement already satisfied: numpy>=1.17 in /usr/local/lib/python3.11/dist-packages (from transformers<5.0.0,>=4.41.0->sentence-transformers) (1.26.4)\n",
            "Requirement already satisfied: regex!=2019.12.17 in /usr/local/lib/python3.11/dist-packages (from transformers<5.0.0,>=4.41.0->sentence-transformers) (2024.11.6)\n",
            "Requirement already satisfied: tokenizers<0.22,>=0.21 in /usr/local/lib/python3.11/dist-packages (from transformers<5.0.0,>=4.41.0->sentence-transformers) (0.21.1)\n",
            "Requirement already satisfied: safetensors>=0.4.3 in /usr/local/lib/python3.11/dist-packages (from transformers<5.0.0,>=4.41.0->sentence-transformers) (0.5.3)\n",
            "Requirement already satisfied: joblib>=1.2.0 in /usr/local/lib/python3.11/dist-packages (from scikit-learn->sentence-transformers) (1.4.2)\n",
            "Requirement already satisfied: threadpoolctl>=3.1.0 in /usr/local/lib/python3.11/dist-packages (from scikit-learn->sentence-transformers) (3.6.0)\n",
            "Requirement already satisfied: MarkupSafe>=2.0 in /usr/local/lib/python3.11/dist-packages (from jinja2->torch>=1.11.0->sentence-transformers) (3.0.2)\n",
            "Requirement already satisfied: charset-normalizer<4,>=2 in /usr/local/lib/python3.11/dist-packages (from requests->huggingface-hub>=0.20.0->sentence-transformers) (3.4.1)\n",
            "Requirement already satisfied: idna<4,>=2.5 in /usr/local/lib/python3.11/dist-packages (from requests->huggingface-hub>=0.20.0->sentence-transformers) (3.10)\n",
            "Requirement already satisfied: urllib3<3,>=1.21.1 in /usr/local/lib/python3.11/dist-packages (from requests->huggingface-hub>=0.20.0->sentence-transformers) (2.3.0)\n",
            "Requirement already satisfied: certifi>=2017.4.17 in /usr/local/lib/python3.11/dist-packages (from requests->huggingface-hub>=0.20.0->sentence-transformers) (2025.1.31)\n",
            "Requirement already satisfied: mpmath<1.4,>=1.1.0 in /usr/local/lib/python3.11/dist-packages (from sympy->torch>=1.11.0->sentence-transformers) (1.3.0)\n"
          ]
        }
      ]
    },
    {
      "cell_type": "code",
      "source": [
        "!pip install langchain_huggingface"
      ],
      "metadata": {
        "colab": {
          "base_uri": "https://localhost:8080/"
        },
        "id": "jqCsytdO3dWt",
        "outputId": "54cb7efb-a21f-4e41-846a-bbcfbb980649"
      },
      "id": "jqCsytdO3dWt",
      "execution_count": 7,
      "outputs": [
        {
          "output_type": "stream",
          "name": "stdout",
          "text": [
            "Requirement already satisfied: langchain_huggingface in /usr/local/lib/python3.11/dist-packages (0.1.2)\n",
            "Requirement already satisfied: huggingface-hub>=0.23.0 in /usr/local/lib/python3.11/dist-packages (from langchain_huggingface) (0.30.2)\n",
            "Requirement already satisfied: langchain-core<0.4.0,>=0.3.15 in /usr/local/lib/python3.11/dist-packages (from langchain_huggingface) (0.3.55)\n",
            "Requirement already satisfied: sentence-transformers>=2.6.0 in /usr/local/lib/python3.11/dist-packages (from langchain_huggingface) (3.4.1)\n",
            "Requirement already satisfied: tokenizers>=0.19.1 in /usr/local/lib/python3.11/dist-packages (from langchain_huggingface) (0.21.1)\n",
            "Requirement already satisfied: transformers>=4.39.0 in /usr/local/lib/python3.11/dist-packages (from langchain_huggingface) (4.51.3)\n",
            "Requirement already satisfied: filelock in /usr/local/lib/python3.11/dist-packages (from huggingface-hub>=0.23.0->langchain_huggingface) (3.18.0)\n",
            "Requirement already satisfied: fsspec>=2023.5.0 in /usr/local/lib/python3.11/dist-packages (from huggingface-hub>=0.23.0->langchain_huggingface) (2025.3.2)\n",
            "Requirement already satisfied: packaging>=20.9 in /usr/local/lib/python3.11/dist-packages (from huggingface-hub>=0.23.0->langchain_huggingface) (24.2)\n",
            "Requirement already satisfied: pyyaml>=5.1 in /usr/local/lib/python3.11/dist-packages (from huggingface-hub>=0.23.0->langchain_huggingface) (6.0.2)\n",
            "Requirement already satisfied: requests in /usr/local/lib/python3.11/dist-packages (from huggingface-hub>=0.23.0->langchain_huggingface) (2.32.3)\n",
            "Requirement already satisfied: tqdm>=4.42.1 in /usr/local/lib/python3.11/dist-packages (from huggingface-hub>=0.23.0->langchain_huggingface) (4.67.1)\n",
            "Requirement already satisfied: typing-extensions>=3.7.4.3 in /usr/local/lib/python3.11/dist-packages (from huggingface-hub>=0.23.0->langchain_huggingface) (4.13.2)\n",
            "Requirement already satisfied: langsmith<0.4,>=0.1.125 in /usr/local/lib/python3.11/dist-packages (from langchain-core<0.4.0,>=0.3.15->langchain_huggingface) (0.3.33)\n",
            "Requirement already satisfied: tenacity!=8.4.0,<10.0.0,>=8.1.0 in /usr/local/lib/python3.11/dist-packages (from langchain-core<0.4.0,>=0.3.15->langchain_huggingface) (9.1.2)\n",
            "Requirement already satisfied: jsonpatch<2.0,>=1.33 in /usr/local/lib/python3.11/dist-packages (from langchain-core<0.4.0,>=0.3.15->langchain_huggingface) (1.33)\n",
            "Requirement already satisfied: pydantic<3.0.0,>=2.5.2 in /usr/local/lib/python3.11/dist-packages (from langchain-core<0.4.0,>=0.3.15->langchain_huggingface) (2.11.3)\n",
            "Requirement already satisfied: torch>=1.11.0 in /usr/local/lib/python3.11/dist-packages (from sentence-transformers>=2.6.0->langchain_huggingface) (2.1.2+cpu)\n",
            "Requirement already satisfied: scikit-learn in /usr/local/lib/python3.11/dist-packages (from sentence-transformers>=2.6.0->langchain_huggingface) (1.6.1)\n",
            "Requirement already satisfied: scipy in /usr/local/lib/python3.11/dist-packages (from sentence-transformers>=2.6.0->langchain_huggingface) (1.14.1)\n",
            "Requirement already satisfied: Pillow in /usr/local/lib/python3.11/dist-packages (from sentence-transformers>=2.6.0->langchain_huggingface) (11.1.0)\n",
            "Requirement already satisfied: numpy>=1.17 in /usr/local/lib/python3.11/dist-packages (from transformers>=4.39.0->langchain_huggingface) (1.26.4)\n",
            "Requirement already satisfied: regex!=2019.12.17 in /usr/local/lib/python3.11/dist-packages (from transformers>=4.39.0->langchain_huggingface) (2024.11.6)\n",
            "Requirement already satisfied: safetensors>=0.4.3 in /usr/local/lib/python3.11/dist-packages (from transformers>=4.39.0->langchain_huggingface) (0.5.3)\n",
            "Requirement already satisfied: jsonpointer>=1.9 in /usr/local/lib/python3.11/dist-packages (from jsonpatch<2.0,>=1.33->langchain-core<0.4.0,>=0.3.15->langchain_huggingface) (3.0.0)\n",
            "Requirement already satisfied: httpx<1,>=0.23.0 in /usr/local/lib/python3.11/dist-packages (from langsmith<0.4,>=0.1.125->langchain-core<0.4.0,>=0.3.15->langchain_huggingface) (0.28.1)\n",
            "Requirement already satisfied: orjson<4.0.0,>=3.9.14 in /usr/local/lib/python3.11/dist-packages (from langsmith<0.4,>=0.1.125->langchain-core<0.4.0,>=0.3.15->langchain_huggingface) (3.10.16)\n",
            "Requirement already satisfied: requests-toolbelt<2.0.0,>=1.0.0 in /usr/local/lib/python3.11/dist-packages (from langsmith<0.4,>=0.1.125->langchain-core<0.4.0,>=0.3.15->langchain_huggingface) (1.0.0)\n",
            "Requirement already satisfied: zstandard<0.24.0,>=0.23.0 in /usr/local/lib/python3.11/dist-packages (from langsmith<0.4,>=0.1.125->langchain-core<0.4.0,>=0.3.15->langchain_huggingface) (0.23.0)\n",
            "Requirement already satisfied: annotated-types>=0.6.0 in /usr/local/lib/python3.11/dist-packages (from pydantic<3.0.0,>=2.5.2->langchain-core<0.4.0,>=0.3.15->langchain_huggingface) (0.7.0)\n",
            "Requirement already satisfied: pydantic-core==2.33.1 in /usr/local/lib/python3.11/dist-packages (from pydantic<3.0.0,>=2.5.2->langchain-core<0.4.0,>=0.3.15->langchain_huggingface) (2.33.1)\n",
            "Requirement already satisfied: typing-inspection>=0.4.0 in /usr/local/lib/python3.11/dist-packages (from pydantic<3.0.0,>=2.5.2->langchain-core<0.4.0,>=0.3.15->langchain_huggingface) (0.4.0)\n",
            "Requirement already satisfied: charset-normalizer<4,>=2 in /usr/local/lib/python3.11/dist-packages (from requests->huggingface-hub>=0.23.0->langchain_huggingface) (3.4.1)\n",
            "Requirement already satisfied: idna<4,>=2.5 in /usr/local/lib/python3.11/dist-packages (from requests->huggingface-hub>=0.23.0->langchain_huggingface) (3.10)\n",
            "Requirement already satisfied: urllib3<3,>=1.21.1 in /usr/local/lib/python3.11/dist-packages (from requests->huggingface-hub>=0.23.0->langchain_huggingface) (2.3.0)\n",
            "Requirement already satisfied: certifi>=2017.4.17 in /usr/local/lib/python3.11/dist-packages (from requests->huggingface-hub>=0.23.0->langchain_huggingface) (2025.1.31)\n",
            "Requirement already satisfied: sympy in /usr/local/lib/python3.11/dist-packages (from torch>=1.11.0->sentence-transformers>=2.6.0->langchain_huggingface) (1.13.3)\n",
            "Requirement already satisfied: networkx in /usr/local/lib/python3.11/dist-packages (from torch>=1.11.0->sentence-transformers>=2.6.0->langchain_huggingface) (3.4.2)\n",
            "Requirement already satisfied: jinja2 in /usr/local/lib/python3.11/dist-packages (from torch>=1.11.0->sentence-transformers>=2.6.0->langchain_huggingface) (3.1.6)\n",
            "Requirement already satisfied: joblib>=1.2.0 in /usr/local/lib/python3.11/dist-packages (from scikit-learn->sentence-transformers>=2.6.0->langchain_huggingface) (1.4.2)\n",
            "Requirement already satisfied: threadpoolctl>=3.1.0 in /usr/local/lib/python3.11/dist-packages (from scikit-learn->sentence-transformers>=2.6.0->langchain_huggingface) (3.6.0)\n",
            "Requirement already satisfied: anyio in /usr/local/lib/python3.11/dist-packages (from httpx<1,>=0.23.0->langsmith<0.4,>=0.1.125->langchain-core<0.4.0,>=0.3.15->langchain_huggingface) (4.9.0)\n",
            "Requirement already satisfied: httpcore==1.* in /usr/local/lib/python3.11/dist-packages (from httpx<1,>=0.23.0->langsmith<0.4,>=0.1.125->langchain-core<0.4.0,>=0.3.15->langchain_huggingface) (1.0.8)\n",
            "Requirement already satisfied: h11<0.15,>=0.13 in /usr/local/lib/python3.11/dist-packages (from httpcore==1.*->httpx<1,>=0.23.0->langsmith<0.4,>=0.1.125->langchain-core<0.4.0,>=0.3.15->langchain_huggingface) (0.14.0)\n",
            "Requirement already satisfied: MarkupSafe>=2.0 in /usr/local/lib/python3.11/dist-packages (from jinja2->torch>=1.11.0->sentence-transformers>=2.6.0->langchain_huggingface) (3.0.2)\n",
            "Requirement already satisfied: mpmath<1.4,>=1.1.0 in /usr/local/lib/python3.11/dist-packages (from sympy->torch>=1.11.0->sentence-transformers>=2.6.0->langchain_huggingface) (1.3.0)\n",
            "Requirement already satisfied: sniffio>=1.1 in /usr/local/lib/python3.11/dist-packages (from anyio->httpx<1,>=0.23.0->langsmith<0.4,>=0.1.125->langchain-core<0.4.0,>=0.3.15->langchain_huggingface) (1.3.1)\n"
          ]
        }
      ]
    },
    {
      "cell_type": "code",
      "execution_count": 153,
      "id": "b7ed03ed-1322-49e3-b2a2-33e94fb592ef",
      "metadata": {
        "height": 98,
        "tags": [],
        "id": "b7ed03ed-1322-49e3-b2a2-33e94fb592ef"
      },
      "outputs": [],
      "source": [
        "from dotenv import load_dotenv, find_dotenv\n",
        "import os\n",
        "_ = load_dotenv(find_dotenv())\n",
        "\n",
        "OPENAI_API_KEY  = os.getenv('OPENAI_API_KEY')"
      ]
    },
    {
      "cell_type": "markdown",
      "id": "e7e29d2c-ba67-4cba-8ded-375fe040b9ba",
      "metadata": {
        "id": "e7e29d2c-ba67-4cba-8ded-375fe040b9ba"
      },
      "source": [
        "### Example 1"
      ]
    },
    {
      "cell_type": "markdown",
      "id": "28008949",
      "metadata": {
        "id": "28008949"
      },
      "source": [
        "#### Create our QandA application"
      ]
    },
    {
      "cell_type": "code",
      "execution_count": 9,
      "id": "974acf8e-8f88-42de-88f8-40a82cb58e8b",
      "metadata": {
        "height": 115,
        "tags": [],
        "id": "974acf8e-8f88-42de-88f8-40a82cb58e8b"
      },
      "outputs": [],
      "source": [
        "from langchain.chains import RetrievalQA\n",
        "from langchain_openai import ChatOpenAI\n",
        "from langchain.llms import OpenAI\n",
        "from langchain_huggingface import HuggingFaceEmbeddings\n",
        "from langchain.document_loaders import CSVLoader, TextLoader\n",
        "from langchain.indexes import VectorstoreIndexCreator\n",
        "from langchain.vectorstores import DocArrayInMemorySearch\n",
        "from langchain.chains import LLMChain\n"
      ]
    },
    {
      "cell_type": "code",
      "execution_count": 156,
      "id": "9ec1106d",
      "metadata": {
        "height": 64,
        "tags": [],
        "id": "9ec1106d"
      },
      "outputs": [],
      "source": [
        "file = '/content/Amazon_product.csv'\n",
        "loader = CSVLoader(file_path=file)\n",
        "data = loader.load()"
      ]
    },
    {
      "cell_type": "code",
      "execution_count": 157,
      "id": "b31c218f",
      "metadata": {
        "height": 64,
        "tags": [],
        "id": "b31c218f"
      },
      "outputs": [],
      "source": [
        "index = VectorstoreIndexCreator(\n",
        "    vectorstore_cls=DocArrayInMemorySearch,\n",
        "    embedding=HuggingFaceEmbeddings(model_name=\"all-MiniLM-L6-v2\", model_kwargs = {'device': 'cpu'})\n",
        ").from_loaders([loader])"
      ]
    },
    {
      "cell_type": "code",
      "execution_count": 158,
      "id": "a2006054",
      "metadata": {
        "height": 183,
        "tags": [],
        "id": "a2006054"
      },
      "outputs": [],
      "source": [
        "llm = ChatOpenAI(temperature = 0.0)\n",
        "qa = RetrievalQA.from_chain_type(\n",
        "    llm=llm,\n",
        "    chain_type=\"stuff\",\n",
        "    retriever=index.vectorstore.as_retriever(),\n",
        "    verbose=True,\n",
        "    chain_type_kwargs = {\n",
        "        \"document_separator\": \"<<<<>>>>>\"\n",
        "    }\n",
        ")"
      ]
    },
    {
      "cell_type": "markdown",
      "id": "791ebd73",
      "metadata": {
        "id": "791ebd73"
      },
      "source": [
        "#### Coming up with test datapoints"
      ]
    },
    {
      "cell_type": "code",
      "execution_count": 159,
      "id": "fb04a0f9",
      "metadata": {
        "height": 30,
        "tags": [],
        "colab": {
          "base_uri": "https://localhost:8080/"
        },
        "id": "fb04a0f9",
        "outputId": "0c4fb897-0a89-49f8-bf07-a11f1ac3b9eb"
      },
      "outputs": [
        {
          "output_type": "execute_result",
          "data": {
            "text/plain": [
              "Document(metadata={'source': '/content/Amazon_product.csv', 'row': 10}, page_content='\\ufeffPRODUCT_ID: 2857066\\nTITLE: 3NHآ® Glasses Goggles Anti Fog Antis Windproof Anti Dust Resistant\\nBULLET_POINTS: [Good quality and Suitable to use.,This Product comes in a proper Packaging.,Delivery within 3-5 weeks,In case of any query or issue. Feel free to reach out to us.,Contains: Pack of 1]\\nDESCRIPTION: 3NH Glasses Goggles Anti Fog Antis Windproof Anti Dust Resistant\\nPRODUCT_TYPE_ID: 10359\\nPRODUCT_LENGTH: 590.5511805\\n: ')"
            ]
          },
          "metadata": {},
          "execution_count": 159
        }
      ],
      "source": [
        "data[10]"
      ]
    },
    {
      "cell_type": "code",
      "execution_count": 160,
      "id": "fe4a88c2",
      "metadata": {
        "height": 30,
        "tags": [],
        "colab": {
          "base_uri": "https://localhost:8080/"
        },
        "id": "fe4a88c2",
        "outputId": "6396f60f-b49f-48b3-bc6f-fcf2919d2795"
      },
      "outputs": [
        {
          "output_type": "execute_result",
          "data": {
            "text/plain": [
              "Document(metadata={'source': '/content/Amazon_product.csv', 'row': 11}, page_content='\\ufeffPRODUCT_ID: 833712\\nTITLE: La Mure / Valbonnais gps\\nBULLET_POINTS: \\nDESCRIPTION: \\nPRODUCT_TYPE_ID: 1\\nPRODUCT_LENGTH: 433.07\\n: ')"
            ]
          },
          "metadata": {},
          "execution_count": 160
        }
      ],
      "source": [
        "data[11]"
      ]
    },
    {
      "cell_type": "markdown",
      "id": "8d548aef",
      "metadata": {
        "id": "8d548aef"
      },
      "source": [
        "#### Hard-coded examples"
      ]
    },
    {
      "cell_type": "code",
      "execution_count": 161,
      "id": "106fbd91-f7bc-4d6b-b090-54b6a485ce39",
      "metadata": {
        "tags": [],
        "id": "106fbd91-f7bc-4d6b-b090-54b6a485ce39"
      },
      "outputs": [],
      "source": [
        "from langchain.prompts import PromptTemplate"
      ]
    },
    {
      "cell_type": "code",
      "execution_count": 173,
      "id": "0c5d5af6-36db-4421-b635-46384e677847",
      "metadata": {
        "tags": [],
        "colab": {
          "base_uri": "https://localhost:8080/"
        },
        "id": "0c5d5af6-36db-4421-b635-46384e677847",
        "outputId": "225c22c3-00d4-4f6b-cadd-812e58c426d4"
      },
      "outputs": [
        {
          "output_type": "stream",
          "name": "stdout",
          "text": [
            "answer='Yes, the Pullover Set is machine washable.'\n"
          ]
        }
      ],
      "source": [
        "from langchain.prompts import PromptTemplate\n",
        "from langchain.schema import BaseOutputParser\n",
        "from pydantic import BaseModel, Field\n",
        "\n",
        "examples = [\n",
        "    {\n",
        "        \"query\": \"Do the Cotton Ankel Leggings Set\\\n",
        "        have side pockets?\",\n",
        "        \"answer\": \"Yes\"\n",
        "    },\n",
        "    {\n",
        "        \"query\": \"What is the color of the PRIKNIK Horn Red Electric Air Horn?\",\n",
        "        \"answer\": \"The PRIKNIK Horn Red Electric Air Horn is vibrant red in color.\"\n",
        "    }\n",
        "]\n",
        "\n",
        "# Define the prompt template\n",
        "prompt_template = PromptTemplate(\n",
        "    input_variables=[\"query\"],\n",
        "    template=\"Examples:\\n\"\n",
        "             \"query: Do the Cotton Ankel Leggings Set have side pockets?\"\n",
        "             \"answer: Yes\"\n",
        "             \"2. Query: What is the color of the PRIKNIK Horn Red Electric Air Horn?\\n\"\n",
        "             \"   Answer: The PRIKNIK Horn Red Electric Air Horn is vibrant red in color.\\n\"\n",
        "             \"Query: {query}\\n\"\n",
        "             \"Answer:\"\n",
        ")\n",
        "\n",
        "# Define the output model\n",
        "class Answer(BaseModel):\n",
        "    answer: str = Field(description=\"The answer to the query\")\n",
        "\n",
        "# Create the output parser\n",
        "class AnswerOutputParser(BaseOutputParser):\n",
        "    def parse(self, text: str) -> Answer:\n",
        "        # Split the response to get the answer\n",
        "        answer = text.strip().split(\"Answer:\")[-1].strip()\n",
        "        return Answer(answer=answer)\n",
        "\n",
        "# Initialize the LLM\n",
        "# llm = OpenAI()\n",
        "llm = ChatOpenAI()\n",
        "\n",
        "# Create the LLMChain\n",
        "llm_chain = LLMChain(\n",
        "    llm=llm,\n",
        "    prompt=prompt_template,\n",
        "    output_parser=AnswerOutputParser()\n",
        ")\n",
        "\n",
        "# Example query\n",
        "query = \"Is the Pullover Set machine washable?\"\n",
        "\n",
        "# Run the chain\n",
        "result = llm_chain.run({\"query\": query})\n",
        "\n",
        "# Print the result\n",
        "print(result)\n"
      ]
    },
    {
      "cell_type": "markdown",
      "id": "c7ce3e4f",
      "metadata": {
        "id": "c7ce3e4f"
      },
      "source": [
        "#### LLM-Generated examples"
      ]
    },
    {
      "cell_type": "code",
      "execution_count": 164,
      "id": "d44f8376",
      "metadata": {
        "height": 64,
        "tags": [],
        "id": "d44f8376"
      },
      "outputs": [],
      "source": [
        "from langchain.evaluation.qa import QAGenerateChain"
      ]
    },
    {
      "cell_type": "code",
      "execution_count": 165,
      "id": "34e87816",
      "metadata": {
        "height": 47,
        "tags": [],
        "id": "34e87816"
      },
      "outputs": [],
      "source": [
        "example_gen_chain = QAGenerateChain.from_llm(ChatOpenAI())"
      ]
    },
    {
      "cell_type": "code",
      "execution_count": 166,
      "id": "acb34772-368f-4b5e-b4bd-da9b637cc7e8",
      "metadata": {
        "id": "acb34772-368f-4b5e-b4bd-da9b637cc7e8"
      },
      "outputs": [],
      "source": [
        "llm_chain = LLMChain(llm=llm, prompt=prompt_template)"
      ]
    },
    {
      "cell_type": "code",
      "execution_count": 174,
      "id": "62abae09",
      "metadata": {
        "height": 64,
        "tags": [],
        "colab": {
          "base_uri": "https://localhost:8080/"
        },
        "id": "62abae09",
        "outputId": "ff60c8ac-c806-4570-f4f3-c02f061483be"
      },
      "outputs": [
        {
          "output_type": "stream",
          "name": "stderr",
          "text": [
            "/usr/local/lib/python3.11/dist-packages/langchain/chains/llm.py:370: UserWarning: The apply_and_parse method is deprecated, instead pass an output parser directly to LLMChain.\n",
            "  warnings.warn(\n"
          ]
        }
      ],
      "source": [
        "new_examples = example_gen_chain.apply_and_parse(\n",
        "    [{\"doc\": t} for t in data[:5]]\n",
        ")"
      ]
    },
    {
      "cell_type": "code",
      "execution_count": 175,
      "id": "97ab28b5",
      "metadata": {
        "height": 30,
        "tags": [],
        "colab": {
          "base_uri": "https://localhost:8080/"
        },
        "id": "97ab28b5",
        "outputId": "75656d1e-c66c-43f8-d397-4e759c2b4b3c"
      },
      "outputs": [
        {
          "output_type": "execute_result",
          "data": {
            "text/plain": [
              "{'qa_pairs': {'query': 'What is the material used for the ArtzFolio Tulip Flowers Blackout Curtain?',\n",
              "  'answer': 'The ArtzFolio Tulip Flowers Blackout Curtain is made of premium cotton canvas fabric.'}}"
            ]
          },
          "metadata": {},
          "execution_count": 175
        }
      ],
      "source": [
        "new_examples[0]"
      ]
    },
    {
      "cell_type": "code",
      "execution_count": 176,
      "id": "0ebe4228",
      "metadata": {
        "height": 30,
        "tags": [],
        "colab": {
          "base_uri": "https://localhost:8080/"
        },
        "id": "0ebe4228",
        "outputId": "efb08df5-e707-460c-c606-bbdd03176032"
      },
      "outputs": [
        {
          "output_type": "execute_result",
          "data": {
            "text/plain": [
              "Document(metadata={'source': '/content/Amazon_product.csv', 'row': 0}, page_content='\\ufeffPRODUCT_ID: 1925202\\nTITLE: ArtzFolio Tulip Flowers Blackout Curtain for Door, Window & Room | Eyelets & Tie Back | Canvas Fabric | Width 4.5feet (54inch) Height 5 feet (60 inch); Set of 2 PCS\\nBULLET_POINTS: [LUXURIOUS & APPEALING: Beautiful custom-made curtains to decorate any home or office | Includes inbuilt tieback to hold the curtain | Completely finished and ready to hang on walls & windows,MATERIAL: Luxurious & versatile fabric with a natural finish | High colour fastness | State-of-the-art digital printing ensures colour consistency and prevents any fading | Eyelets; Cotton Canvas; Width 4.5feet (54inch) | Multicolour | PACKAGE: 2 Room Curtains Eyelets | SIZE: Height 5 feet (60 inch); SET OF 2 PCS,BLACKOUT CURTAIN: 100% opaque & heavy premium cotton canvas fabric | Tight knitted, long life & durable fabric | Printing only on front side with a plain colour back side,MADE TO PERFECTION: Large eyelets at the top to put hanging hooks | Perfectly tailored seams for durability | Refined stitching with a matching thread color,QUALITY ASSURED: Gentle wash with similar colors in cold water | Avoid direct sunlight to prevent fading | Dispatched after MULTIPLE QUALITY CHECKS]\\nDESCRIPTION: \\nPRODUCT_TYPE_ID: 1650\\nPRODUCT_LENGTH: 2125.98\\n: ')"
            ]
          },
          "metadata": {},
          "execution_count": 176
        }
      ],
      "source": [
        "data[0]"
      ]
    },
    {
      "cell_type": "code",
      "execution_count": 177,
      "id": "7693fe86-feeb-4d73-b400-e66e79315274",
      "metadata": {
        "tags": [],
        "colab": {
          "base_uri": "https://localhost:8080/"
        },
        "id": "7693fe86-feeb-4d73-b400-e66e79315274",
        "outputId": "1241b385-cab5-4e1a-de4e-a7074ca9a5d8"
      },
      "outputs": [
        {
          "output_type": "execute_result",
          "data": {
            "text/plain": [
              "[{'query': 'What is the material used for the ArtzFolio Tulip Flowers Blackout Curtain?',\n",
              "  'answer': 'The ArtzFolio Tulip Flowers Blackout Curtain is made of premium cotton canvas fabric.'},\n",
              " {'query': \"What is the product ID for the Marks & Spencer Girls' Pyjama Sets in Navy Mix for 9-10 year olds?\",\n",
              "  'answer': \"The product ID for the Marks & Spencer Girls' Pyjama Sets in Navy Mix for 9-10 year olds is 2673191.\"},\n",
              " {'query': 'What are the specifications of the PRIKNIK Horn Red Electric Air Horn mentioned in the document?',\n",
              "  'answer': 'The specifications of the PRIKNIK Horn Red Electric Air Horn are as follows: Color - Red, Material - Aluminium, Voltage - 12V, dB - 130 dB, Material - Aluminum Pump Head + Steel Pump Body + ABS Shell and Parts, DB output - 130db, Voltage - 12v, Sound Type - Dual Tone, Application - 12V Voltage Vehicles With Battery Above 20A.'},\n",
              " {'query': \"According to the document, what is the composition of the ALISHAH Women's Cotton Ankle Length Leggings Combo of 2?\",\n",
              "  'answer': 'The leggings are made of 95% cotton and 5% Lycra, providing 4 ways stretchable comfort.'},\n",
              " {'query': 'What is the Product ID of the book titled \"The United Empire Loyalists: A Chronicle of the Great Migration\"?',\n",
              "  'answer': 'The Product ID is 283658.'}]"
            ]
          },
          "metadata": {},
          "execution_count": 177
        }
      ],
      "source": [
        "d_flattened = [data['qa_pairs'] for data in new_examples]\n",
        "d_flattened"
      ]
    },
    {
      "cell_type": "markdown",
      "id": "faf25f2f",
      "metadata": {
        "id": "faf25f2f"
      },
      "source": [
        "#### Combine examples"
      ]
    },
    {
      "cell_type": "code",
      "execution_count": 178,
      "id": "ada2a3fc",
      "metadata": {
        "height": 30,
        "tags": [],
        "id": "ada2a3fc"
      },
      "outputs": [],
      "source": [
        "# examples += new_example\n",
        "examples += d_flattened"
      ]
    },
    {
      "cell_type": "code",
      "execution_count": 179,
      "id": "2184b9d7-22ab-43a5-9ba5-b27fef024874",
      "metadata": {
        "tags": [],
        "colab": {
          "base_uri": "https://localhost:8080/"
        },
        "id": "2184b9d7-22ab-43a5-9ba5-b27fef024874",
        "outputId": "906d8963-7ca4-439d-9632-8804261a771c"
      },
      "outputs": [
        {
          "output_type": "execute_result",
          "data": {
            "text/plain": [
              "{'query': 'Do the Cotton Ankel Leggings Set        have side pockets?',\n",
              " 'answer': 'Yes'}"
            ]
          },
          "metadata": {},
          "execution_count": 179
        }
      ],
      "source": [
        "examples[0]"
      ]
    },
    {
      "cell_type": "code",
      "execution_count": 180,
      "id": "9cdf5cf5",
      "metadata": {
        "height": 30,
        "tags": [],
        "colab": {
          "base_uri": "https://localhost:8080/"
        },
        "id": "9cdf5cf5",
        "outputId": "c458feda-e7f6-415f-fb11-b32488aa7a62"
      },
      "outputs": [
        {
          "output_type": "stream",
          "name": "stdout",
          "text": [
            "\n",
            "\n",
            "\u001b[1m> Entering new RetrievalQA chain...\u001b[0m\n",
            "\n",
            "\u001b[1m> Finished chain.\u001b[0m\n"
          ]
        },
        {
          "output_type": "execute_result",
          "data": {
            "text/plain": [
              "{'query': 'Do the Cotton Ankel Leggings Set        have side pockets?',\n",
              " 'result': \"No, the ALISHAH Women's Cotton Ankle Length Leggings Combo of 2 does not mention having side pockets in the provided context.\"}"
            ]
          },
          "metadata": {},
          "execution_count": 180
        }
      ],
      "source": [
        "qa.invoke(examples[0][\"query\"])"
      ]
    },
    {
      "cell_type": "markdown",
      "id": "63f3cb08",
      "metadata": {
        "id": "63f3cb08"
      },
      "source": [
        "### Manual Evaluation - Fun part"
      ]
    },
    {
      "cell_type": "code",
      "execution_count": 181,
      "id": "fcaf622e",
      "metadata": {
        "height": 47,
        "tags": [],
        "id": "fcaf622e"
      },
      "outputs": [],
      "source": [
        "import langchain\n",
        "langchain.debug = True"
      ]
    },
    {
      "cell_type": "code",
      "execution_count": 182,
      "id": "8a142638",
      "metadata": {
        "height": 30,
        "tags": [],
        "colab": {
          "base_uri": "https://localhost:8080/"
        },
        "id": "8a142638",
        "outputId": "95cb24c5-9510-43e4-c5aa-55a4d764afdd"
      },
      "outputs": [
        {
          "output_type": "stream",
          "name": "stdout",
          "text": [
            "\u001b[32;1m\u001b[1;3m[chain/start]\u001b[0m \u001b[1m[chain:RetrievalQA] Entering Chain run with input:\n",
            "\u001b[0m{\n",
            "  \"query\": \"Do the Cotton Ankel Leggings Set        have side pockets?\"\n",
            "}\n",
            "\u001b[32;1m\u001b[1;3m[chain/start]\u001b[0m \u001b[1m[chain:RetrievalQA > chain:StuffDocumentsChain] Entering Chain run with input:\n",
            "\u001b[0m[inputs]\n",
            "\u001b[32;1m\u001b[1;3m[chain/start]\u001b[0m \u001b[1m[chain:RetrievalQA > chain:StuffDocumentsChain > chain:LLMChain] Entering Chain run with input:\n",
            "\u001b[0m{\n",
            "  \"question\": \"Do the Cotton Ankel Leggings Set        have side pockets?\",\n",
            "  \"context\": \"﻿PRODUCT_ID: 1011020\\nTITLE: Maevn Women's Core Full Elastic Band Cargo Pants(Royal Blue, XX-Small)\\nBULLET_POINTS: [Straight leg pant,Full elastic waistband,Two front slash pockets,One cargo pocket and inner cell pocket,Side vents]\\nDESCRIPTION: Core by Maevn features the Women's Full Elastic Band Cargo Scrub Pant, style 9016. No job is too hard for Maevn's Core collection. Made from a high-caliber poplin fabric, these scrubs are designed to hold up in even the toughest environments. The Women's Full Elastic Band Cargo Scrub Pant has a straigt leg and full elastic waistband. The scrub pant provides two front slash pockets, one cargo pocket, and an inner cell pocket. Regular Inseam: 31\\\", Petite Inseam: 28\\\", Tall Inseam: 33\\\"\\nPRODUCT_TYPE_ID: 3081\\nPRODUCT_LENGTH: 1400\\n:<<<<>>>>>flattering, great for playing tennis, hiking & the beach. The pockets hold everything, 2 deep side pockets in skirts convenient for storing your essentials, 2 hidden pocket in inner shorts for your ball and your phone during sports,You go-to skort on vacation: The fabric of this casual skorts skirts is lightweight and cool, easy to wear and easy to wash. Packs up easily in your backpack, looks great with any type of shirt. The A-line version looks thinner and sets off the figure, which can flatter different tature. Perfect for various scenes, such as golf, tennis, running, beach, casual, vocation etc.]<<<<>>>>>﻿PRODUCT_ID: 1233616\\nTITLE: Lofbaz Women's Drawstring Harem Solid Bohemian Hippie Rayon Pants Purple M\\nBULLET_POINTS: [COMFORTABLE - Loose fit and flowy wide leg ladies joggers.100% soft lightweight Rayon,GREAT FIT - Petite and Plus Size: S, M, L, XL, 2XL, 3XL, 4XL. Drawstring waist. 1 side pockets and elastic around the ankles,BEAUTIFUL STYLE - Cute colorful floral print and solid colors. Wear with your favorite tops,VERSATILE -Convenient for many occasions: yoga, lounge,beachwear,summer travel, maternity, festival,dance and many others,UNIQUE GIFTS - Perfect under 20 dollars gift for a loved one.Handmade ethically in Thailand under Fair Trade regulations]<<<<>>>>>﻿PRODUCT_ID: 1594019\\nTITLE: ALISHAH Women's Cotton Ankle Length Leggings Combo of 2, Plus 12 Colors_L\\nBULLET_POINTS: [Made By 95%cotton and 5% Lycra which gives you 4 ways stretchable comfort, GSM 180 to 190,Come with Elasticized Waist Band, Slim Fit,Bubble free fabric and High quality steaching, Bio Wash,Skin-friendly fabric,ANKLE LENGTH LEGGINGS PACK OF 2]\"\n",
            "}\n",
            "\u001b[32;1m\u001b[1;3m[llm/start]\u001b[0m \u001b[1m[chain:RetrievalQA > chain:StuffDocumentsChain > chain:LLMChain > llm:ChatOpenAI] Entering LLM run with input:\n",
            "\u001b[0m{\n",
            "  \"prompts\": [\n",
            "    \"System: Use the following pieces of context to answer the user's question. \\nIf you don't know the answer, just say that you don't know, don't try to make up an answer.\\n----------------\\n﻿PRODUCT_ID: 1011020\\nTITLE: Maevn Women's Core Full Elastic Band Cargo Pants(Royal Blue, XX-Small)\\nBULLET_POINTS: [Straight leg pant,Full elastic waistband,Two front slash pockets,One cargo pocket and inner cell pocket,Side vents]\\nDESCRIPTION: Core by Maevn features the Women's Full Elastic Band Cargo Scrub Pant, style 9016. No job is too hard for Maevn's Core collection. Made from a high-caliber poplin fabric, these scrubs are designed to hold up in even the toughest environments. The Women's Full Elastic Band Cargo Scrub Pant has a straigt leg and full elastic waistband. The scrub pant provides two front slash pockets, one cargo pocket, and an inner cell pocket. Regular Inseam: 31\\\", Petite Inseam: 28\\\", Tall Inseam: 33\\\"\\nPRODUCT_TYPE_ID: 3081\\nPRODUCT_LENGTH: 1400\\n:<<<<>>>>>flattering, great for playing tennis, hiking & the beach. The pockets hold everything, 2 deep side pockets in skirts convenient for storing your essentials, 2 hidden pocket in inner shorts for your ball and your phone during sports,You go-to skort on vacation: The fabric of this casual skorts skirts is lightweight and cool, easy to wear and easy to wash. Packs up easily in your backpack, looks great with any type of shirt. The A-line version looks thinner and sets off the figure, which can flatter different tature. Perfect for various scenes, such as golf, tennis, running, beach, casual, vocation etc.]<<<<>>>>>﻿PRODUCT_ID: 1233616\\nTITLE: Lofbaz Women's Drawstring Harem Solid Bohemian Hippie Rayon Pants Purple M\\nBULLET_POINTS: [COMFORTABLE - Loose fit and flowy wide leg ladies joggers.100% soft lightweight Rayon,GREAT FIT - Petite and Plus Size: S, M, L, XL, 2XL, 3XL, 4XL. Drawstring waist. 1 side pockets and elastic around the ankles,BEAUTIFUL STYLE - Cute colorful floral print and solid colors. Wear with your favorite tops,VERSATILE -Convenient for many occasions: yoga, lounge,beachwear,summer travel, maternity, festival,dance and many others,UNIQUE GIFTS - Perfect under 20 dollars gift for a loved one.Handmade ethically in Thailand under Fair Trade regulations]<<<<>>>>>﻿PRODUCT_ID: 1594019\\nTITLE: ALISHAH Women's Cotton Ankle Length Leggings Combo of 2, Plus 12 Colors_L\\nBULLET_POINTS: [Made By 95%cotton and 5% Lycra which gives you 4 ways stretchable comfort, GSM 180 to 190,Come with Elasticized Waist Band, Slim Fit,Bubble free fabric and High quality steaching, Bio Wash,Skin-friendly fabric,ANKLE LENGTH LEGGINGS PACK OF 2]\\nHuman: Do the Cotton Ankel Leggings Set        have side pockets?\"\n",
            "  ]\n",
            "}\n",
            "\u001b[36;1m\u001b[1;3m[llm/end]\u001b[0m \u001b[1m[chain:RetrievalQA > chain:StuffDocumentsChain > chain:LLMChain > llm:ChatOpenAI] [824ms] Exiting LLM run with output:\n",
            "\u001b[0m{\n",
            "  \"generations\": [\n",
            "    [\n",
            "      {\n",
            "        \"text\": \"No, the ALISHAH Women's Cotton Ankle Length Leggings Combo of 2 does not mention having side pockets in the provided information.\",\n",
            "        \"generation_info\": {\n",
            "          \"finish_reason\": \"stop\",\n",
            "          \"logprobs\": null\n",
            "        },\n",
            "        \"type\": \"ChatGeneration\",\n",
            "        \"message\": {\n",
            "          \"lc\": 1,\n",
            "          \"type\": \"constructor\",\n",
            "          \"id\": [\n",
            "            \"langchain\",\n",
            "            \"schema\",\n",
            "            \"messages\",\n",
            "            \"AIMessage\"\n",
            "          ],\n",
            "          \"kwargs\": {\n",
            "            \"content\": \"No, the ALISHAH Women's Cotton Ankle Length Leggings Combo of 2 does not mention having side pockets in the provided information.\",\n",
            "            \"additional_kwargs\": {\n",
            "              \"refusal\": null\n",
            "            },\n",
            "            \"response_metadata\": {\n",
            "              \"token_usage\": {\n",
            "                \"completion_tokens\": 30,\n",
            "                \"prompt_tokens\": 691,\n",
            "                \"total_tokens\": 721,\n",
            "                \"completion_tokens_details\": {\n",
            "                  \"accepted_prediction_tokens\": 0,\n",
            "                  \"audio_tokens\": 0,\n",
            "                  \"reasoning_tokens\": 0,\n",
            "                  \"rejected_prediction_tokens\": 0\n",
            "                },\n",
            "                \"prompt_tokens_details\": {\n",
            "                  \"audio_tokens\": 0,\n",
            "                  \"cached_tokens\": 0\n",
            "                }\n",
            "              },\n",
            "              \"model_name\": \"gpt-3.5-turbo-0125\",\n",
            "              \"system_fingerprint\": null,\n",
            "              \"id\": \"chatcmpl-BQC2FYZmbXrfLETpx3sQQA7NcHBkf\",\n",
            "              \"finish_reason\": \"stop\",\n",
            "              \"logprobs\": null\n",
            "            },\n",
            "            \"type\": \"ai\",\n",
            "            \"id\": \"run-baf1a19d-4b58-4a65-aeaa-e4fe0f03b6d6-0\",\n",
            "            \"usage_metadata\": {\n",
            "              \"input_tokens\": 691,\n",
            "              \"output_tokens\": 30,\n",
            "              \"total_tokens\": 721,\n",
            "              \"input_token_details\": {\n",
            "                \"audio\": 0,\n",
            "                \"cache_read\": 0\n",
            "              },\n",
            "              \"output_token_details\": {\n",
            "                \"audio\": 0,\n",
            "                \"reasoning\": 0\n",
            "              }\n",
            "            },\n",
            "            \"tool_calls\": [],\n",
            "            \"invalid_tool_calls\": []\n",
            "          }\n",
            "        }\n",
            "      }\n",
            "    ]\n",
            "  ],\n",
            "  \"llm_output\": {\n",
            "    \"token_usage\": {\n",
            "      \"completion_tokens\": 30,\n",
            "      \"prompt_tokens\": 691,\n",
            "      \"total_tokens\": 721,\n",
            "      \"completion_tokens_details\": {\n",
            "        \"accepted_prediction_tokens\": 0,\n",
            "        \"audio_tokens\": 0,\n",
            "        \"reasoning_tokens\": 0,\n",
            "        \"rejected_prediction_tokens\": 0\n",
            "      },\n",
            "      \"prompt_tokens_details\": {\n",
            "        \"audio_tokens\": 0,\n",
            "        \"cached_tokens\": 0\n",
            "      }\n",
            "    },\n",
            "    \"model_name\": \"gpt-3.5-turbo-0125\",\n",
            "    \"system_fingerprint\": null,\n",
            "    \"id\": \"chatcmpl-BQC2FYZmbXrfLETpx3sQQA7NcHBkf\"\n",
            "  },\n",
            "  \"run\": null,\n",
            "  \"type\": \"LLMResult\"\n",
            "}\n",
            "\u001b[36;1m\u001b[1;3m[chain/end]\u001b[0m \u001b[1m[chain:RetrievalQA > chain:StuffDocumentsChain > chain:LLMChain] [826ms] Exiting Chain run with output:\n",
            "\u001b[0m{\n",
            "  \"text\": \"No, the ALISHAH Women's Cotton Ankle Length Leggings Combo of 2 does not mention having side pockets in the provided information.\"\n",
            "}\n",
            "\u001b[36;1m\u001b[1;3m[chain/end]\u001b[0m \u001b[1m[chain:RetrievalQA > chain:StuffDocumentsChain] [827ms] Exiting Chain run with output:\n",
            "\u001b[0m{\n",
            "  \"output_text\": \"No, the ALISHAH Women's Cotton Ankle Length Leggings Combo of 2 does not mention having side pockets in the provided information.\"\n",
            "}\n",
            "\u001b[36;1m\u001b[1;3m[chain/end]\u001b[0m \u001b[1m[chain:RetrievalQA] [859ms] Exiting Chain run with output:\n",
            "\u001b[0m{\n",
            "  \"result\": \"No, the ALISHAH Women's Cotton Ankle Length Leggings Combo of 2 does not mention having side pockets in the provided information.\"\n",
            "}\n"
          ]
        },
        {
          "output_type": "execute_result",
          "data": {
            "text/plain": [
              "{'query': 'Do the Cotton Ankel Leggings Set        have side pockets?',\n",
              " 'result': \"No, the ALISHAH Women's Cotton Ankle Length Leggings Combo of 2 does not mention having side pockets in the provided information.\"}"
            ]
          },
          "metadata": {},
          "execution_count": 182
        }
      ],
      "source": [
        "qa.invoke(examples[0][\"query\"])"
      ]
    },
    {
      "cell_type": "code",
      "execution_count": 183,
      "id": "b3d6bef0",
      "metadata": {
        "height": 47,
        "tags": [],
        "id": "b3d6bef0"
      },
      "outputs": [],
      "source": [
        "# Turn off the debug mode\n",
        "langchain.debug = False"
      ]
    },
    {
      "cell_type": "markdown",
      "id": "d5bdbdce",
      "metadata": {
        "id": "d5bdbdce"
      },
      "source": [
        "### LLM assisted evaluation"
      ]
    },
    {
      "cell_type": "code",
      "execution_count": 184,
      "id": "a54769b0-3daf-4cac-b259-89a10dd9b5a2",
      "metadata": {
        "tags": [],
        "id": "a54769b0-3daf-4cac-b259-89a10dd9b5a2"
      },
      "outputs": [],
      "source": [
        "examples += d_flattened"
      ]
    },
    {
      "cell_type": "code",
      "execution_count": 185,
      "id": "8ea95385-1b4c-440a-9fea-8500b4cc2154",
      "metadata": {
        "tags": [],
        "colab": {
          "base_uri": "https://localhost:8080/"
        },
        "id": "8ea95385-1b4c-440a-9fea-8500b4cc2154",
        "outputId": "2b3a090a-6c5f-4862-98bb-afab83ebf4e2"
      },
      "outputs": [
        {
          "output_type": "execute_result",
          "data": {
            "text/plain": [
              "[{'query': 'Do the Cotton Ankel Leggings Set        have side pockets?',\n",
              "  'answer': 'Yes'},\n",
              " {'query': 'What is the color of the PRIKNIK Horn Red Electric Air Horn?',\n",
              "  'answer': 'The PRIKNIK Horn Red Electric Air Horn is vibrant red in color.'},\n",
              " {'query': 'What is the material used for the ArtzFolio Tulip Flowers Blackout Curtain?',\n",
              "  'answer': 'The ArtzFolio Tulip Flowers Blackout Curtain is made of premium cotton canvas fabric.'},\n",
              " {'query': \"What is the product ID for the Marks & Spencer Girls' Pyjama Sets in Navy Mix for 9-10 year olds?\",\n",
              "  'answer': \"The product ID for the Marks & Spencer Girls' Pyjama Sets in Navy Mix for 9-10 year olds is 2673191.\"},\n",
              " {'query': 'What are the specifications of the PRIKNIK Horn Red Electric Air Horn mentioned in the document?',\n",
              "  'answer': 'The specifications of the PRIKNIK Horn Red Electric Air Horn are as follows: Color - Red, Material - Aluminium, Voltage - 12V, dB - 130 dB, Material - Aluminum Pump Head + Steel Pump Body + ABS Shell and Parts, DB output - 130db, Voltage - 12v, Sound Type - Dual Tone, Application - 12V Voltage Vehicles With Battery Above 20A.'},\n",
              " {'query': \"According to the document, what is the composition of the ALISHAH Women's Cotton Ankle Length Leggings Combo of 2?\",\n",
              "  'answer': 'The leggings are made of 95% cotton and 5% Lycra, providing 4 ways stretchable comfort.'},\n",
              " {'query': 'What is the Product ID of the book titled \"The United Empire Loyalists: A Chronicle of the Great Migration\"?',\n",
              "  'answer': 'The Product ID is 283658.'},\n",
              " {'query': 'What is the material used for the ArtzFolio Tulip Flowers Blackout Curtain?',\n",
              "  'answer': 'The ArtzFolio Tulip Flowers Blackout Curtain is made of premium cotton canvas fabric.'},\n",
              " {'query': \"What is the product ID for the Marks & Spencer Girls' Pyjama Sets in Navy Mix for 9-10 year olds?\",\n",
              "  'answer': \"The product ID for the Marks & Spencer Girls' Pyjama Sets in Navy Mix for 9-10 year olds is 2673191.\"},\n",
              " {'query': 'What are the specifications of the PRIKNIK Horn Red Electric Air Horn mentioned in the document?',\n",
              "  'answer': 'The specifications of the PRIKNIK Horn Red Electric Air Horn are as follows: Color - Red, Material - Aluminium, Voltage - 12V, dB - 130 dB, Material - Aluminum Pump Head + Steel Pump Body + ABS Shell and Parts, DB output - 130db, Voltage - 12v, Sound Type - Dual Tone, Application - 12V Voltage Vehicles With Battery Above 20A.'},\n",
              " {'query': \"According to the document, what is the composition of the ALISHAH Women's Cotton Ankle Length Leggings Combo of 2?\",\n",
              "  'answer': 'The leggings are made of 95% cotton and 5% Lycra, providing 4 ways stretchable comfort.'},\n",
              " {'query': 'What is the Product ID of the book titled \"The United Empire Loyalists: A Chronicle of the Great Migration\"?',\n",
              "  'answer': 'The Product ID is 283658.'}]"
            ]
          },
          "metadata": {},
          "execution_count": 185
        }
      ],
      "source": [
        "examples"
      ]
    },
    {
      "cell_type": "code",
      "execution_count": 186,
      "id": "a4dca05a",
      "metadata": {
        "height": 30,
        "tags": [],
        "colab": {
          "base_uri": "https://localhost:8080/"
        },
        "id": "a4dca05a",
        "outputId": "4f2bf17c-d964-4fb9-89bd-ed301505d096"
      },
      "outputs": [
        {
          "output_type": "stream",
          "name": "stdout",
          "text": [
            "\n",
            "\n",
            "\u001b[1m> Entering new RetrievalQA chain...\u001b[0m\n",
            "\n",
            "\n",
            "\u001b[1m> Entering new RetrievalQA chain...\u001b[0m\n",
            "\n",
            "\n",
            "\u001b[1m> Entering new RetrievalQA chain...\u001b[0m\n",
            "\n",
            "\n",
            "\u001b[1m> Entering new RetrievalQA chain...\u001b[0m\n",
            "\n",
            "\n",
            "\u001b[1m> Entering new RetrievalQA chain...\u001b[0m\n",
            "\n",
            "\n",
            "\u001b[1m> Entering new RetrievalQA chain...\u001b[0m\n",
            "\n",
            "\u001b[1m> Finished chain.\u001b[0m\n",
            "\n",
            "\n",
            "\u001b[1m> Entering new RetrievalQA chain...\u001b[0m\n",
            "\n",
            "\u001b[1m> Finished chain.\u001b[0m\n",
            "\n",
            "\n",
            "\u001b[1m> Entering new RetrievalQA chain...\u001b[0m\n",
            "\n",
            "\u001b[1m> Finished chain.\u001b[0m\n",
            "\n",
            "\n",
            "\u001b[1m> Entering new RetrievalQA chain...\u001b[0m\n",
            "\n",
            "\u001b[1m> Finished chain.\u001b[0m\n",
            "\n",
            "\n",
            "\u001b[1m> Entering new RetrievalQA chain...\u001b[0m\n",
            "\n",
            "\u001b[1m> Finished chain.\u001b[0m\n",
            "\n",
            "\n",
            "\u001b[1m> Entering new RetrievalQA chain...\u001b[0m\n",
            "\n",
            "\u001b[1m> Finished chain.\u001b[0m\n",
            "\n",
            "\n",
            "\u001b[1m> Entering new RetrievalQA chain...\u001b[0m\n",
            "\n",
            "\u001b[1m> Finished chain.\u001b[0m\n",
            "\n",
            "\u001b[1m> Finished chain.\u001b[0m\n",
            "\n",
            "\u001b[1m> Finished chain.\u001b[0m\n",
            "\n",
            "\u001b[1m> Finished chain.\u001b[0m\n",
            "\n",
            "\u001b[1m> Finished chain.\u001b[0m\n",
            "\n",
            "\u001b[1m> Finished chain.\u001b[0m\n"
          ]
        }
      ],
      "source": [
        "predictions = qa.batch(examples)"
      ]
    },
    {
      "cell_type": "code",
      "execution_count": 187,
      "id": "ae7e8b4e-4468-4048-8544-c9936704ea93",
      "metadata": {
        "tags": [],
        "colab": {
          "base_uri": "https://localhost:8080/"
        },
        "id": "ae7e8b4e-4468-4048-8544-c9936704ea93",
        "outputId": "5c4e028e-c797-4be8-d975-f8c7c7ce7fbd"
      },
      "outputs": [
        {
          "output_type": "execute_result",
          "data": {
            "text/plain": [
              "[{'query': 'Do the Cotton Ankel Leggings Set        have side pockets?',\n",
              "  'answer': 'Yes',\n",
              "  'result': \"No, the ALISHAH Women's Cotton Ankle Length Leggings Combo of 2 does not have side pockets.\"},\n",
              " {'query': 'What is the color of the PRIKNIK Horn Red Electric Air Horn?',\n",
              "  'answer': 'The PRIKNIK Horn Red Electric Air Horn is vibrant red in color.',\n",
              "  'result': 'The color of the PRIKNIK Horn Red Electric Air Horn is red.'},\n",
              " {'query': 'What is the material used for the ArtzFolio Tulip Flowers Blackout Curtain?',\n",
              "  'answer': 'The ArtzFolio Tulip Flowers Blackout Curtain is made of premium cotton canvas fabric.',\n",
              "  'result': 'The material used for the ArtzFolio Tulip Flowers Blackout Curtain is canvas fabric.'},\n",
              " {'query': \"What is the product ID for the Marks & Spencer Girls' Pyjama Sets in Navy Mix for 9-10 year olds?\",\n",
              "  'answer': \"The product ID for the Marks & Spencer Girls' Pyjama Sets in Navy Mix for 9-10 year olds is 2673191.\",\n",
              "  'result': \"The product ID for the Marks & Spencer Girls' Pyjama Sets in Navy Mix for 9-10 year olds is 2673191.\"},\n",
              " {'query': 'What are the specifications of the PRIKNIK Horn Red Electric Air Horn mentioned in the document?',\n",
              "  'answer': 'The specifications of the PRIKNIK Horn Red Electric Air Horn are as follows: Color - Red, Material - Aluminium, Voltage - 12V, dB - 130 dB, Material - Aluminum Pump Head + Steel Pump Body + ABS Shell and Parts, DB output - 130db, Voltage - 12v, Sound Type - Dual Tone, Application - 12V Voltage Vehicles With Battery Above 20A.',\n",
              "  'result': 'The specifications of the PRIKNIK Horn Red Electric Air Horn are as follows:\\n- Color: Red\\n- Material: Aluminium\\n- Voltage: 12V\\n- Sound Type: Dual Tone\\n- dB output: 130db\\n- Application: 12V Voltage Vehicles With Battery Above 20A'},\n",
              " {'query': \"According to the document, what is the composition of the ALISHAH Women's Cotton Ankle Length Leggings Combo of 2?\",\n",
              "  'answer': 'The leggings are made of 95% cotton and 5% Lycra, providing 4 ways stretchable comfort.',\n",
              "  'result': \"The ALISHAH Women's Cotton Ankle Length Leggings Combo of 2 is made of 95% cotton and 5% Lycra.\"},\n",
              " {'query': 'What is the Product ID of the book titled \"The United Empire Loyalists: A Chronicle of the Great Migration\"?',\n",
              "  'answer': 'The Product ID is 283658.',\n",
              "  'result': 'The Product ID of the book titled \"The United Empire Loyalists: A Chronicle of the Great Migration\" is 283658.'},\n",
              " {'query': 'What is the material used for the ArtzFolio Tulip Flowers Blackout Curtain?',\n",
              "  'answer': 'The ArtzFolio Tulip Flowers Blackout Curtain is made of premium cotton canvas fabric.',\n",
              "  'result': 'The material used for the ArtzFolio Tulip Flowers Blackout Curtain is Canvas Fabric.'},\n",
              " {'query': \"What is the product ID for the Marks & Spencer Girls' Pyjama Sets in Navy Mix for 9-10 year olds?\",\n",
              "  'answer': \"The product ID for the Marks & Spencer Girls' Pyjama Sets in Navy Mix for 9-10 year olds is 2673191.\",\n",
              "  'result': \"The product ID for the Marks & Spencer Girls' Pyjama Sets in Navy Mix for 9-10 year olds is 2673191.\"},\n",
              " {'query': 'What are the specifications of the PRIKNIK Horn Red Electric Air Horn mentioned in the document?',\n",
              "  'answer': 'The specifications of the PRIKNIK Horn Red Electric Air Horn are as follows: Color - Red, Material - Aluminium, Voltage - 12V, dB - 130 dB, Material - Aluminum Pump Head + Steel Pump Body + ABS Shell and Parts, DB output - 130db, Voltage - 12v, Sound Type - Dual Tone, Application - 12V Voltage Vehicles With Battery Above 20A.',\n",
              "  'result': 'The specifications of the PRIKNIK Horn Red Electric Air Horn are as follows:\\n- Color: Red\\n- Material: Aluminium\\n- Voltage: 12V\\n- Sound Type: Dual Tone\\n- dB output: 130dB\\n- Material: Aluminum Pump Head + Steel Pump Body + ABS Shell and Parts\\n- Application: 12V Voltage Vehicles With Battery Above 20A'},\n",
              " {'query': \"According to the document, what is the composition of the ALISHAH Women's Cotton Ankle Length Leggings Combo of 2?\",\n",
              "  'answer': 'The leggings are made of 95% cotton and 5% Lycra, providing 4 ways stretchable comfort.',\n",
              "  'result': \"The ALISHAH Women's Cotton Ankle Length Leggings Combo of 2 is made of 95% cotton and 5% Lycra.\"},\n",
              " {'query': 'What is the Product ID of the book titled \"The United Empire Loyalists: A Chronicle of the Great Migration\"?',\n",
              "  'answer': 'The Product ID is 283658.',\n",
              "  'result': 'The Product ID of the book titled \"The United Empire Loyalists: A Chronicle of the Great Migration\" is 283658.'}]"
            ]
          },
          "metadata": {},
          "execution_count": 187
        }
      ],
      "source": [
        "predictions"
      ]
    },
    {
      "cell_type": "code",
      "execution_count": 188,
      "id": "6012a3e0",
      "metadata": {
        "height": 30,
        "tags": [],
        "id": "6012a3e0"
      },
      "outputs": [],
      "source": [
        "from langchain.evaluation.qa import QAEvalChain"
      ]
    },
    {
      "cell_type": "code",
      "execution_count": 189,
      "id": "724b1c0b",
      "metadata": {
        "height": 47,
        "tags": [],
        "id": "724b1c0b"
      },
      "outputs": [],
      "source": [
        "llm = ChatOpenAI(temperature=0)\n",
        "eval_chain = QAEvalChain.from_llm(llm)"
      ]
    },
    {
      "cell_type": "code",
      "execution_count": 190,
      "id": "8b46ae55",
      "metadata": {
        "height": 47,
        "tags": [],
        "id": "8b46ae55"
      },
      "outputs": [],
      "source": [
        "graded_outputs = eval_chain.evaluate(examples, predictions)"
      ]
    },
    {
      "cell_type": "code",
      "execution_count": 191,
      "id": "dc42eb35-c2d7-4581-8004-d315ade63eef",
      "metadata": {
        "tags": [],
        "colab": {
          "base_uri": "https://localhost:8080/"
        },
        "id": "dc42eb35-c2d7-4581-8004-d315ade63eef",
        "outputId": "ea8c8cfb-28eb-4526-da51-a4d505ddc740"
      },
      "outputs": [
        {
          "output_type": "execute_result",
          "data": {
            "text/plain": [
              "[{'results': 'INCORRECT'},\n",
              " {'results': 'CORRECT'},\n",
              " {'results': 'CORRECT'},\n",
              " {'results': 'CORRECT'},\n",
              " {'results': 'CORRECT'},\n",
              " {'results': 'CORRECT'},\n",
              " {'results': 'CORRECT'},\n",
              " {'results': 'CORRECT'},\n",
              " {'results': 'CORRECT'},\n",
              " {'results': 'CORRECT'},\n",
              " {'results': 'CORRECT'},\n",
              " {'results': 'CORRECT'}]"
            ]
          },
          "metadata": {},
          "execution_count": 191
        }
      ],
      "source": [
        "graded_outputs"
      ]
    },
    {
      "cell_type": "code",
      "execution_count": 192,
      "id": "3437cfbe",
      "metadata": {
        "height": 149,
        "tags": [],
        "colab": {
          "base_uri": "https://localhost:8080/"
        },
        "id": "3437cfbe",
        "outputId": "8b3d5631-4381-477b-bdf1-af5eed499a80"
      },
      "outputs": [
        {
          "output_type": "stream",
          "name": "stdout",
          "text": [
            "Example 0:\n",
            "Question: Do the Cotton Ankel Leggings Set        have side pockets?\n",
            "Real Answer: Yes\n",
            "Predicted Answer: No, the ALISHAH Women's Cotton Ankle Length Leggings Combo of 2 does not have side pockets.\n",
            "\n",
            "Example 1:\n",
            "Question: What is the color of the PRIKNIK Horn Red Electric Air Horn?\n",
            "Real Answer: The PRIKNIK Horn Red Electric Air Horn is vibrant red in color.\n",
            "Predicted Answer: The color of the PRIKNIK Horn Red Electric Air Horn is red.\n",
            "\n",
            "Example 2:\n",
            "Question: What is the material used for the ArtzFolio Tulip Flowers Blackout Curtain?\n",
            "Real Answer: The ArtzFolio Tulip Flowers Blackout Curtain is made of premium cotton canvas fabric.\n",
            "Predicted Answer: The material used for the ArtzFolio Tulip Flowers Blackout Curtain is canvas fabric.\n",
            "\n",
            "Example 3:\n",
            "Question: What is the product ID for the Marks & Spencer Girls' Pyjama Sets in Navy Mix for 9-10 year olds?\n",
            "Real Answer: The product ID for the Marks & Spencer Girls' Pyjama Sets in Navy Mix for 9-10 year olds is 2673191.\n",
            "Predicted Answer: The product ID for the Marks & Spencer Girls' Pyjama Sets in Navy Mix for 9-10 year olds is 2673191.\n",
            "\n",
            "Example 4:\n",
            "Question: What are the specifications of the PRIKNIK Horn Red Electric Air Horn mentioned in the document?\n",
            "Real Answer: The specifications of the PRIKNIK Horn Red Electric Air Horn are as follows: Color - Red, Material - Aluminium, Voltage - 12V, dB - 130 dB, Material - Aluminum Pump Head + Steel Pump Body + ABS Shell and Parts, DB output - 130db, Voltage - 12v, Sound Type - Dual Tone, Application - 12V Voltage Vehicles With Battery Above 20A.\n",
            "Predicted Answer: The specifications of the PRIKNIK Horn Red Electric Air Horn are as follows:\n",
            "- Color: Red\n",
            "- Material: Aluminium\n",
            "- Voltage: 12V\n",
            "- Sound Type: Dual Tone\n",
            "- dB output: 130db\n",
            "- Application: 12V Voltage Vehicles With Battery Above 20A\n",
            "\n",
            "Example 5:\n",
            "Question: According to the document, what is the composition of the ALISHAH Women's Cotton Ankle Length Leggings Combo of 2?\n",
            "Real Answer: The leggings are made of 95% cotton and 5% Lycra, providing 4 ways stretchable comfort.\n",
            "Predicted Answer: The ALISHAH Women's Cotton Ankle Length Leggings Combo of 2 is made of 95% cotton and 5% Lycra.\n",
            "\n",
            "Example 6:\n",
            "Question: What is the Product ID of the book titled \"The United Empire Loyalists: A Chronicle of the Great Migration\"?\n",
            "Real Answer: The Product ID is 283658.\n",
            "Predicted Answer: The Product ID of the book titled \"The United Empire Loyalists: A Chronicle of the Great Migration\" is 283658.\n",
            "\n",
            "Example 7:\n",
            "Question: What is the material used for the ArtzFolio Tulip Flowers Blackout Curtain?\n",
            "Real Answer: The ArtzFolio Tulip Flowers Blackout Curtain is made of premium cotton canvas fabric.\n",
            "Predicted Answer: The material used for the ArtzFolio Tulip Flowers Blackout Curtain is Canvas Fabric.\n",
            "\n",
            "Example 8:\n",
            "Question: What is the product ID for the Marks & Spencer Girls' Pyjama Sets in Navy Mix for 9-10 year olds?\n",
            "Real Answer: The product ID for the Marks & Spencer Girls' Pyjama Sets in Navy Mix for 9-10 year olds is 2673191.\n",
            "Predicted Answer: The product ID for the Marks & Spencer Girls' Pyjama Sets in Navy Mix for 9-10 year olds is 2673191.\n",
            "\n",
            "Example 9:\n",
            "Question: What are the specifications of the PRIKNIK Horn Red Electric Air Horn mentioned in the document?\n",
            "Real Answer: The specifications of the PRIKNIK Horn Red Electric Air Horn are as follows: Color - Red, Material - Aluminium, Voltage - 12V, dB - 130 dB, Material - Aluminum Pump Head + Steel Pump Body + ABS Shell and Parts, DB output - 130db, Voltage - 12v, Sound Type - Dual Tone, Application - 12V Voltage Vehicles With Battery Above 20A.\n",
            "Predicted Answer: The specifications of the PRIKNIK Horn Red Electric Air Horn are as follows:\n",
            "- Color: Red\n",
            "- Material: Aluminium\n",
            "- Voltage: 12V\n",
            "- Sound Type: Dual Tone\n",
            "- dB output: 130dB\n",
            "- Material: Aluminum Pump Head + Steel Pump Body + ABS Shell and Parts\n",
            "- Application: 12V Voltage Vehicles With Battery Above 20A\n",
            "\n",
            "Example 10:\n",
            "Question: According to the document, what is the composition of the ALISHAH Women's Cotton Ankle Length Leggings Combo of 2?\n",
            "Real Answer: The leggings are made of 95% cotton and 5% Lycra, providing 4 ways stretchable comfort.\n",
            "Predicted Answer: The ALISHAH Women's Cotton Ankle Length Leggings Combo of 2 is made of 95% cotton and 5% Lycra.\n",
            "\n",
            "Example 11:\n",
            "Question: What is the Product ID of the book titled \"The United Empire Loyalists: A Chronicle of the Great Migration\"?\n",
            "Real Answer: The Product ID is 283658.\n",
            "Predicted Answer: The Product ID of the book titled \"The United Empire Loyalists: A Chronicle of the Great Migration\" is 283658.\n",
            "\n"
          ]
        }
      ],
      "source": [
        "for i, eg in enumerate(examples):\n",
        "    print(f\"Example {i}:\")\n",
        "    print(\"Question: \" + predictions[i]['query'])\n",
        "    print(\"Real Answer: \" + predictions[i]['answer'])\n",
        "    print(\"Predicted Answer: \" + predictions[i]['result'])\n",
        "    # print(\"Predicted Grade: \" + graded_outputs[i]['text'])\n",
        "    print()"
      ]
    },
    {
      "cell_type": "markdown",
      "id": "721d127a-a9e3-465d-a8ae-0e2c4b4a2659",
      "metadata": {
        "id": "721d127a-a9e3-465d-a8ae-0e2c4b4a2659"
      },
      "source": [
        "### Example 2\n",
        "One can also easily evaluate your QA chains with the metrics offered in ragas"
      ]
    },
    {
      "cell_type": "code",
      "source": [
        "#!pip install torch\n",
        "#!pip install langchain langchain-community\n"
      ],
      "metadata": {
        "id": "R_Z-30TiBDDm"
      },
      "id": "R_Z-30TiBDDm",
      "execution_count": 39,
      "outputs": []
    },
    {
      "cell_type": "code",
      "execution_count": 130,
      "id": "a5ef0493-34ff-4801-b405-69c76ce86c38",
      "metadata": {
        "tags": [],
        "colab": {
          "base_uri": "https://localhost:8080/"
        },
        "id": "a5ef0493-34ff-4801-b405-69c76ce86c38",
        "outputId": "44bb3f98-318e-4c68-9998-6dcbbee5fd61"
      },
      "outputs": [
        {
          "output_type": "stream",
          "name": "stderr",
          "text": [
            "/usr/local/lib/python3.11/dist-packages/langchain/indexes/vectorstore.py:171: UserWarning: Using InMemoryVectorStore as the default vectorstore.This memory store won't persist data. You should explicitlyspecify a vectorstore when using VectorstoreIndexCreator\n",
            "  warnings.warn(\n"
          ]
        }
      ],
      "source": [
        "from langchain_huggingface import HuggingFaceEmbeddings\n",
        "loader = TextLoader(\"/content/AI.txt\")\n",
        "index = VectorstoreIndexCreator(embedding=HuggingFaceEmbeddings(model_name=\"all-MiniLM-L6-v2\", model_kwargs = {'device': 'cpu'})).from_loaders([loader])\n",
        "\n",
        "\n",
        "llm = ChatOpenAI(temperature= 0)\n",
        "qa_chain = RetrievalQA.from_chain_type(\n",
        "    llm,\n",
        "    retriever=index.vectorstore.as_retriever(),\n",
        "    return_source_documents=True,\n",
        ")"
      ]
    },
    {
      "cell_type": "code",
      "execution_count": 133,
      "id": "f0449cae-de25-4ef6-ae64-78ccf5e06a5a",
      "metadata": {
        "tags": [],
        "colab": {
          "base_uri": "https://localhost:8080/",
          "height": 87
        },
        "id": "f0449cae-de25-4ef6-ae64-78ccf5e06a5a",
        "outputId": "52c50ff4-8424-4b71-cade-d590ec9ccd65"
      },
      "outputs": [
        {
          "output_type": "execute_result",
          "data": {
            "text/plain": [
              "'Artificial intelligence (AI) involves the design of systems and software capable of performing tasks that usually require human intelligence. These tasks include learning, logical thinking, problem-solving, planning, recognizing speech and images, translating languages, and even creativity. AI has become deeply integrated into various aspects of our daily lives, from smart assistants to medical applications, scientific research, self-driving cars, security systems, and even art and creativity.'"
            ],
            "application/vnd.google.colaboratory.intrinsic+json": {
              "type": "string"
            }
          },
          "metadata": {},
          "execution_count": 133
        }
      ],
      "source": [
        "# testing it out\n",
        "\n",
        "question = \"What is AI?\"\n",
        "result = qa_chain.invoke({\"query\": question})\n",
        "result[\"result\"]"
      ]
    },
    {
      "cell_type": "code",
      "execution_count": 134,
      "id": "9e846b3d-f79f-46eb-8075-c816268c0500",
      "metadata": {
        "tags": [],
        "colab": {
          "base_uri": "https://localhost:8080/"
        },
        "id": "9e846b3d-f79f-46eb-8075-c816268c0500",
        "outputId": "1492a4e5-f19c-4ff5-f3e5-f46044fb0bf6"
      },
      "outputs": [
        {
          "output_type": "execute_result",
          "data": {
            "text/plain": [
              "{'query': 'What is AI?',\n",
              " 'result': 'Artificial intelligence (AI) involves the design of systems and software capable of performing tasks that usually require human intelligence. These tasks include learning, logical thinking, problem-solving, planning, recognizing speech and images, translating languages, and even creativity. AI has become deeply integrated into various aspects of our daily lives, from smart assistants to medical applications, scientific research, self-driving cars, security systems, and even art and creativity.',\n",
              " 'source_documents': [Document(id='fcb516e2-3f52-4bf6-9b91-e6c00db4a6ba', metadata={'source': '/content/AI.txt'}, page_content='Artificial Intelligence and Its Impact on the Future\\n\\nArtificial intelligence (AI) is one of the most fascinating and debated fields in technology. It involves the design of systems and software capable of performing tasks that usually require human intelligence. These tasks include learning, logical thinking, problem-solving, planning, recognizing speech and images, translating languages, and even creativity.\\n\\nAI has come a long way since it first emerged as an idea in the minds of scientists and philosophers. In the 1950s, the concept of AI was introduced by pioneers like Alan Turing, who proposed a test to measure the ability of machines to mimic human intelligence, now known as the \"Turing Test.\" Since then, intelligent systems have achieved significant progress across various domains.'),\n",
              "  Document(id='9bce195a-9d32-463c-bf91-badd386dca9e', metadata={'source': '/content/AI.txt'}, page_content='Today, AI is deeply integrated into almost every aspect of our daily lives. From smart assistants like Siri and Alexa to medical applications that use AI for early disease diagnosis, and scientific research leveraging AI to analyze data and discover new drugs. AI has also contributed to the development of self-driving cars, security and surveillance systems, and even art and creativity, such as generating music and painting using AI.'),\n",
              "  Document(id='d7f51d3f-ee88-45bc-ab19-12678c88b966', metadata={'source': '/content/AI.txt'}, page_content='There is also growing concern that AI might exacerbate social and economic inequalities, as countries and companies with access to AI technologies will have a competitive edge over others. Moreover, questions arise about legal responsibility when an AI system makes a mistake, such as in an autonomous vehicle accident.\\n\\nThe Future of AI\\nThe future of AI appears promising but is fraught with challenges. As research in the field progresses, AI is expected to become more capable of simulating human cognitive processes in deeper and more complex ways. In the near future, we may see the development of systems capable of making more accurate decisions in areas such as healthcare, scientific research, and even politics.'),\n",
              "  Document(id='3681c473-71a2-4c7e-858b-578bf5523d27', metadata={'source': '/content/AI.txt'}, page_content='AI in Daily Life\\nIn our daily lives, AI has become an integral part of many devices and systems that we use. Smartphones today are equipped with features that rely heavily on AI, such as voice assistants, calendar management, and text and image analysis. For instance, programs like Google Assistant and Apple Siri can interact with users, answer questions, help locate places, or send text messages.\\n\\nAI has also added new dimensions to the entertainment industry, such as augmented reality films and games that use advanced algorithms to create personalized experiences for players. Streaming platforms like Netflix and Spotify use AI algorithms to analyze user preferences and provide tailored recommendations.')]}"
            ]
          },
          "metadata": {},
          "execution_count": 134
        }
      ],
      "source": [
        "result"
      ]
    },
    {
      "cell_type": "markdown",
      "id": "069d9da8-a593-4fc6-9d4b-fea2af6bdfd0",
      "metadata": {
        "id": "069d9da8-a593-4fc6-9d4b-fea2af6bdfd0"
      },
      "source": [
        "Now in order to evaluate the qa system we generated a few relevant questions. We've generated a few question for you but feel free to add any you want."
      ]
    },
    {
      "cell_type": "code",
      "execution_count": 135,
      "id": "a2e2cade-0005-41c1-b775-c6a7175bcf3b",
      "metadata": {
        "tags": [],
        "id": "a2e2cade-0005-41c1-b775-c6a7175bcf3b"
      },
      "outputs": [],
      "source": [
        "eval_questions = [\n",
        "    \"What is Artificial Intelligence (AI)?\",\n",
        "    \"How has AI impacted various industries?\",\n",
        "    \"What are the potential risks associated with AI?\",\n",
        "    \"What is the future outlook for AI technology?\",\n",
        "    \"How is AI used in education?\",\n",
        "]\n",
        "\n",
        "eval_answers = [\n",
        "    \"Artificial Intelligence (AI) is the simulation of human intelligence in machines designed to think, learn, and perform tasks typically requiring human cognition, such as problem-solving, learning, decision-making, and language understanding.\",\n",
        "    \"AI has significantly impacted various industries such as healthcare, entertainment, finance, and education. It is used to enhance productivity, make accurate predictions, improve customer experiences, and optimize operations. For example, AI systems assist in disease diagnosis, improve user recommendations in streaming services, and enhance financial modeling and analysis.\",\n",
        "    \"The potential risks associated with AI include security concerns, such as the use of AI for malicious purposes (e.g., cyberattacks or autonomous weapons). There are also concerns about job displacement, increased inequalities, and the ethical dilemmas surrounding AI decision-making, particularly in areas like autonomous vehicles and surveillance.\",\n",
        "    \"The future of AI looks promising, with expected advancements in cognitive simulation, enhancing its role in scientific research, healthcare, business, and more. However, there are challenges related to governance, ethics, and regulation that need to be addressed to ensure AI's responsible and safe development.\",\n",
        "    \"AI is used in education to personalize learning experiences, help track student progress, and offer customized resources. It also supports remote learning, assists teachers in managing virtual classrooms, and provides accurate evaluations, creating more efficient and tailored educational systems.\",\n",
        "]\n",
        "\n",
        "examples = [\n",
        "    {\"query\": q, \"ground_truths\": [eval_answers[i]]}\n",
        "    for i, q in enumerate(eval_questions)\n",
        "]\n"
      ]
    },
    {
      "cell_type": "code",
      "execution_count": 136,
      "id": "aac9358e-f8bc-4992-aea3-c83160ff0ab0",
      "metadata": {
        "tags": [],
        "colab": {
          "base_uri": "https://localhost:8080/"
        },
        "id": "aac9358e-f8bc-4992-aea3-c83160ff0ab0",
        "outputId": "6d8fc23d-b993-4749-9e14-b13ddc3f0e88"
      },
      "outputs": [
        {
          "output_type": "execute_result",
          "data": {
            "text/plain": [
              "[{'query': 'What is Artificial Intelligence (AI)?',\n",
              "  'ground_truths': ['Artificial Intelligence (AI) is the simulation of human intelligence in machines designed to think, learn, and perform tasks typically requiring human cognition, such as problem-solving, learning, decision-making, and language understanding.']},\n",
              " {'query': 'How has AI impacted various industries?',\n",
              "  'ground_truths': ['AI has significantly impacted various industries such as healthcare, entertainment, finance, and education. It is used to enhance productivity, make accurate predictions, improve customer experiences, and optimize operations. For example, AI systems assist in disease diagnosis, improve user recommendations in streaming services, and enhance financial modeling and analysis.']},\n",
              " {'query': 'What are the potential risks associated with AI?',\n",
              "  'ground_truths': ['The potential risks associated with AI include security concerns, such as the use of AI for malicious purposes (e.g., cyberattacks or autonomous weapons). There are also concerns about job displacement, increased inequalities, and the ethical dilemmas surrounding AI decision-making, particularly in areas like autonomous vehicles and surveillance.']},\n",
              " {'query': 'What is the future outlook for AI technology?',\n",
              "  'ground_truths': [\"The future of AI looks promising, with expected advancements in cognitive simulation, enhancing its role in scientific research, healthcare, business, and more. However, there are challenges related to governance, ethics, and regulation that need to be addressed to ensure AI's responsible and safe development.\"]},\n",
              " {'query': 'How is AI used in education?',\n",
              "  'ground_truths': ['AI is used in education to personalize learning experiences, help track student progress, and offer customized resources. It also supports remote learning, assists teachers in managing virtual classrooms, and provides accurate evaluations, creating more efficient and tailored educational systems.']}]"
            ]
          },
          "metadata": {},
          "execution_count": 136
        }
      ],
      "source": [
        "examples"
      ]
    },
    {
      "cell_type": "markdown",
      "id": "6a21efe8-7c30-449a-9b8e-5b79778e305b",
      "metadata": {
        "id": "6a21efe8-7c30-449a-9b8e-5b79778e305b"
      },
      "source": [
        "#### Introducing RagasEvaluatorChain"
      ]
    },
    {
      "cell_type": "markdown",
      "id": "139c2214-a6eb-4d4f-9403-7e1574b97a36",
      "metadata": {
        "id": "139c2214-a6eb-4d4f-9403-7e1574b97a36"
      },
      "source": [
        "`RagasEvaluatorChain` creates a wrapper around the metrics ragas provides (documented [here](https://github.com/explodinggradients/ragas/blob/main/docs/metrics.md)), making it easier to run these evaluation with langchain and langsmith.\n",
        "\n",
        "The evaluator chain has the following APIs\n",
        "\n",
        "- `__call__()`: call the `RagasEvaluatorChain` directly on the result of a QA chain.\n",
        "- `evaluate()`: evaluate on a list of examples (with the input queries) and predictions (outputs from the QA chain).\n",
        "- `evaluate_run()`: method implemented that is called by langsmith evaluators to evaluate langsmith datasets.\n",
        "\n",
        "lets see each of them in action to learn more."
      ]
    },
    {
      "cell_type": "code",
      "execution_count": 137,
      "id": "022c8aae-fe5f-4274-b638-9209151b9491",
      "metadata": {
        "tags": [],
        "colab": {
          "base_uri": "https://localhost:8080/",
          "height": 157
        },
        "id": "022c8aae-fe5f-4274-b638-9209151b9491",
        "outputId": "64413ae7-d166-4f60-c062-3ad811b6b073"
      },
      "outputs": [
        {
          "output_type": "execute_result",
          "data": {
            "text/plain": [
              "'AI has had a significant impact on various industries, transforming the way businesses operate and improving efficiency. Here are some examples of how AI has impacted different sectors:\\n\\n1. Healthcare: AI is being used in healthcare for tasks like early disease diagnosis, personalized treatment plans, drug discovery, and medical imaging analysis. This has led to improved patient outcomes and more efficient healthcare delivery.\\n\\n2. Finance: In the finance industry, AI is used for fraud detection, algorithmic trading, risk assessment, and customer service chatbots. AI has helped financial institutions make faster and more accurate decisions, leading to better customer service and reduced risks.\\n\\n3. Retail: AI is used in retail for personalized recommendations, inventory management, demand forecasting, and customer service. This has improved the overall shopping experience for customers and helped retailers optimize their operations.\\n\\n4. Manufacturing: AI is used in manufacturing for predictive maintenance, quality control, supply chain optimization, and process automation. This has led to increased productivity, reduced downtime, and improved product quality.\\n\\n5. Transportation: AI has revolutionized the transportation industry with the development of self-driving cars, predictive maintenance for vehicles, route optimization, and traffic management systems. This has the potential to make transportation safer, more efficient, and environmentally friendly.\\n\\nOverall, AI has the potential to transform various industries by improving productivity, reducing costs, and enabling new capabilities that were not possible before.'"
            ],
            "application/vnd.google.colaboratory.intrinsic+json": {
              "type": "string"
            }
          },
          "metadata": {},
          "execution_count": 137
        }
      ],
      "source": [
        "result = qa_chain.invoke({\"query\": eval_questions[1]})\n",
        "result[\"result\"]"
      ]
    },
    {
      "cell_type": "code",
      "execution_count": 138,
      "id": "eae31c80-42c9-4b1f-95b3-c05ceadb103f",
      "metadata": {
        "tags": [],
        "id": "eae31c80-42c9-4b1f-95b3-c05ceadb103f"
      },
      "outputs": [],
      "source": [
        "key_mapping = {\n",
        "    \"query\": \"question\",\n",
        "    \"result\": \"answer\",\n",
        "    \"source_documents\": \"contexts\"\n",
        "}\n",
        "\n",
        "result_updated = {}\n",
        "for old_key, new_key in key_mapping.items():\n",
        "    if old_key in result:\n",
        "        result_updated[new_key] = result[old_key]\n"
      ]
    },
    {
      "cell_type": "code",
      "execution_count": 139,
      "id": "ecd4dd9f-16d7-43d4-ac8e-6c5aa5e3f7b0",
      "metadata": {
        "tags": [],
        "colab": {
          "base_uri": "https://localhost:8080/"
        },
        "id": "ecd4dd9f-16d7-43d4-ac8e-6c5aa5e3f7b0",
        "outputId": "5a90974c-86ca-4c0f-fc60-5d14c0102f02"
      },
      "outputs": [
        {
          "output_type": "execute_result",
          "data": {
            "text/plain": [
              "{'question': 'How has AI impacted various industries?',\n",
              " 'answer': 'AI has had a significant impact on various industries, transforming the way businesses operate and improving efficiency. Here are some examples of how AI has impacted different sectors:\\n\\n1. Healthcare: AI is being used in healthcare for tasks like early disease diagnosis, personalized treatment plans, drug discovery, and medical imaging analysis. This has led to improved patient outcomes and more efficient healthcare delivery.\\n\\n2. Finance: In the finance industry, AI is used for fraud detection, algorithmic trading, risk assessment, and customer service chatbots. AI has helped financial institutions make faster and more accurate decisions, leading to better customer service and reduced risks.\\n\\n3. Retail: AI is used in retail for personalized recommendations, inventory management, demand forecasting, and customer service. This has improved the overall shopping experience for customers and helped retailers optimize their operations.\\n\\n4. Manufacturing: AI is used in manufacturing for predictive maintenance, quality control, supply chain optimization, and process automation. This has led to increased productivity, reduced downtime, and improved product quality.\\n\\n5. Transportation: AI has revolutionized the transportation industry with the development of self-driving cars, predictive maintenance for vehicles, route optimization, and traffic management systems. This has the potential to make transportation safer, more efficient, and environmentally friendly.\\n\\nOverall, AI has the potential to transform various industries by improving productivity, reducing costs, and enabling new capabilities that were not possible before.',\n",
              " 'contexts': [Document(id='998e886b-d28a-4f08-90ec-66ef5acb80bf', metadata={'source': '/content/AI.txt'}, page_content='The Economic Impact of AI\\nAI’s impact on the economy will be profound. In the near future, companies will be able to use AI to improve productivity and reduce costs, leading to higher profits. Machines and intelligent systems will be able to perform many of the tasks previously handled by humans, improving efficiency and delivering products and services faster and more accurately. However, this technological advancement could also lead to the elimination of some traditional jobs, raising concerns about its impact on the job market. While AI will create new job opportunities in fields such as programming, data analysis, and cybersecurity, some simple jobs might disappear in the future.'),\n",
              "  Document(id='d7f51d3f-ee88-45bc-ab19-12678c88b966', metadata={'source': '/content/AI.txt'}, page_content='There is also growing concern that AI might exacerbate social and economic inequalities, as countries and companies with access to AI technologies will have a competitive edge over others. Moreover, questions arise about legal responsibility when an AI system makes a mistake, such as in an autonomous vehicle accident.\\n\\nThe Future of AI\\nThe future of AI appears promising but is fraught with challenges. As research in the field progresses, AI is expected to become more capable of simulating human cognitive processes in deeper and more complex ways. In the near future, we may see the development of systems capable of making more accurate decisions in areas such as healthcare, scientific research, and even politics.'),\n",
              "  Document(id='d867b883-6dad-4c9c-abcb-542a92f47c24', metadata={'source': '/content/AI.txt'}, page_content='However, societies and governments must be prepared to face the challenges that these technological changes may bring. It is crucial to develop laws and regulations that govern the use of AI and ensure that these technologies are used responsibly and safely for the benefit of all humanity.'),\n",
              "  Document(id='9bce195a-9d32-463c-bf91-badd386dca9e', metadata={'source': '/content/AI.txt'}, page_content='Today, AI is deeply integrated into almost every aspect of our daily lives. From smart assistants like Siri and Alexa to medical applications that use AI for early disease diagnosis, and scientific research leveraging AI to analyze data and discover new drugs. AI has also contributed to the development of self-driving cars, security and surveillance systems, and even art and creativity, such as generating music and painting using AI.')]}"
            ]
          },
          "metadata": {},
          "execution_count": 139
        }
      ],
      "source": [
        "result_updated"
      ]
    },
    {
      "cell_type": "code",
      "execution_count": 51,
      "id": "00d5cc30-d25e-41bd-8695-9246b73938bc",
      "metadata": {
        "tags": [],
        "colab": {
          "base_uri": "https://localhost:8080/"
        },
        "id": "00d5cc30-d25e-41bd-8695-9246b73938bc",
        "outputId": "f98630e5-c573-45eb-aafc-dd133776bd47"
      },
      "outputs": [
        {
          "output_type": "stream",
          "name": "stdout",
          "text": [
            "Collecting recordclass\n",
            "  Downloading recordclass-0.23.1.tar.gz (1.3 MB)\n",
            "\u001b[?25l     \u001b[90m━━━━━━━━━━━━━━━━━━━━━━━━━━━━━━━━━━━━━━━━\u001b[0m \u001b[32m0.0/1.3 MB\u001b[0m \u001b[31m?\u001b[0m eta \u001b[36m-:--:--\u001b[0m\r\u001b[2K     \u001b[91m━━━━\u001b[0m\u001b[91m╸\u001b[0m\u001b[90m━━━━━━━━━━━━━━━━━━━━━━━━━━━━━━━━━━━\u001b[0m \u001b[32m0.2/1.3 MB\u001b[0m \u001b[31m4.2 MB/s\u001b[0m eta \u001b[36m0:00:01\u001b[0m\r\u001b[2K     \u001b[90m━━━━━━━━━━━━━━━━━━━━━━━━━━━━━━━━━━━━━━━━\u001b[0m \u001b[32m1.3/1.3 MB\u001b[0m \u001b[31m17.3 MB/s\u001b[0m eta \u001b[36m0:00:00\u001b[0m\n",
            "\u001b[?25h  Installing build dependencies ... \u001b[?25l\u001b[?25hdone\n",
            "  Getting requirements to build wheel ... \u001b[?25l\u001b[?25hdone\n",
            "  Preparing metadata (pyproject.toml) ... \u001b[?25l\u001b[?25hdone\n",
            "Building wheels for collected packages: recordclass\n",
            "  Building wheel for recordclass (pyproject.toml) ... \u001b[?25l\u001b[?25hdone\n",
            "  Created wheel for recordclass: filename=recordclass-0.23.1-cp311-cp311-linux_x86_64.whl size=453255 sha256=4a79007a367b315502c9e1d6b41fe4bae40158800d61403f518fc97d5bd9ea53\n",
            "  Stored in directory: /tmp/pip-ephem-wheel-cache-wvgvmjx9/wheels/23/43/c9/edc2de309801c14a6a7ecb6a38eb3844802c5e895ac3094a01\n",
            "Successfully built recordclass\n",
            "Installing collected packages: recordclass\n",
            "Successfully installed recordclass-0.23.1\n"
          ]
        }
      ],
      "source": [
        "!pip install --no-cache-dir recordclass"
      ]
    },
    {
      "cell_type": "code",
      "execution_count": 52,
      "id": "775d55d9-437d-40c4-bb5f-87c7b65fa567",
      "metadata": {
        "tags": [],
        "colab": {
          "base_uri": "https://localhost:8080/"
        },
        "id": "775d55d9-437d-40c4-bb5f-87c7b65fa567",
        "outputId": "79a5b683-0ab9-44a5-88a6-6202ab3e9d3a"
      },
      "outputs": [
        {
          "output_type": "stream",
          "name": "stdout",
          "text": [
            "Collecting ragas==0.1.9\n",
            "  Downloading ragas-0.1.9-py3-none-any.whl.metadata (5.2 kB)\n",
            "Requirement already satisfied: numpy in /usr/local/lib/python3.11/dist-packages (from ragas==0.1.9) (1.26.4)\n",
            "Collecting datasets (from ragas==0.1.9)\n",
            "  Downloading datasets-3.5.0-py3-none-any.whl.metadata (19 kB)\n",
            "Requirement already satisfied: tiktoken in /usr/local/lib/python3.11/dist-packages (from ragas==0.1.9) (0.9.0)\n",
            "Requirement already satisfied: langchain in /usr/local/lib/python3.11/dist-packages (from ragas==0.1.9) (0.3.24)\n",
            "Requirement already satisfied: langchain-core in /usr/local/lib/python3.11/dist-packages (from ragas==0.1.9) (0.3.55)\n",
            "Requirement already satisfied: langchain-community in /usr/local/lib/python3.11/dist-packages (from ragas==0.1.9) (0.3.22)\n",
            "Requirement already satisfied: langchain-openai in /usr/local/lib/python3.11/dist-packages (from ragas==0.1.9) (0.3.14)\n",
            "Requirement already satisfied: openai>1 in /usr/local/lib/python3.11/dist-packages (from ragas==0.1.9) (1.75.0)\n",
            "Collecting pysbd>=0.3.4 (from ragas==0.1.9)\n",
            "  Downloading pysbd-0.3.4-py3-none-any.whl.metadata (6.1 kB)\n",
            "Requirement already satisfied: nest-asyncio in /usr/local/lib/python3.11/dist-packages (from ragas==0.1.9) (1.6.0)\n",
            "Collecting appdirs (from ragas==0.1.9)\n",
            "  Downloading appdirs-1.4.4-py2.py3-none-any.whl.metadata (9.0 kB)\n",
            "Requirement already satisfied: anyio<5,>=3.5.0 in /usr/local/lib/python3.11/dist-packages (from openai>1->ragas==0.1.9) (4.9.0)\n",
            "Requirement already satisfied: distro<2,>=1.7.0 in /usr/local/lib/python3.11/dist-packages (from openai>1->ragas==0.1.9) (1.9.0)\n",
            "Requirement already satisfied: httpx<1,>=0.23.0 in /usr/local/lib/python3.11/dist-packages (from openai>1->ragas==0.1.9) (0.28.1)\n",
            "Requirement already satisfied: jiter<1,>=0.4.0 in /usr/local/lib/python3.11/dist-packages (from openai>1->ragas==0.1.9) (0.9.0)\n",
            "Requirement already satisfied: pydantic<3,>=1.9.0 in /usr/local/lib/python3.11/dist-packages (from openai>1->ragas==0.1.9) (2.11.3)\n",
            "Requirement already satisfied: sniffio in /usr/local/lib/python3.11/dist-packages (from openai>1->ragas==0.1.9) (1.3.1)\n",
            "Requirement already satisfied: tqdm>4 in /usr/local/lib/python3.11/dist-packages (from openai>1->ragas==0.1.9) (4.67.1)\n",
            "Requirement already satisfied: typing-extensions<5,>=4.11 in /usr/local/lib/python3.11/dist-packages (from openai>1->ragas==0.1.9) (4.13.2)\n",
            "Requirement already satisfied: filelock in /usr/local/lib/python3.11/dist-packages (from datasets->ragas==0.1.9) (3.18.0)\n",
            "Requirement already satisfied: pyarrow>=15.0.0 in /usr/local/lib/python3.11/dist-packages (from datasets->ragas==0.1.9) (18.1.0)\n",
            "Collecting dill<0.3.9,>=0.3.0 (from datasets->ragas==0.1.9)\n",
            "  Downloading dill-0.3.8-py3-none-any.whl.metadata (10 kB)\n",
            "Requirement already satisfied: pandas in /usr/local/lib/python3.11/dist-packages (from datasets->ragas==0.1.9) (2.2.2)\n",
            "Requirement already satisfied: requests>=2.32.2 in /usr/local/lib/python3.11/dist-packages (from datasets->ragas==0.1.9) (2.32.3)\n",
            "Collecting xxhash (from datasets->ragas==0.1.9)\n",
            "  Downloading xxhash-3.5.0-cp311-cp311-manylinux_2_17_x86_64.manylinux2014_x86_64.whl.metadata (12 kB)\n",
            "Collecting multiprocess<0.70.17 (from datasets->ragas==0.1.9)\n",
            "  Downloading multiprocess-0.70.16-py311-none-any.whl.metadata (7.2 kB)\n",
            "Collecting fsspec<=2024.12.0,>=2023.1.0 (from fsspec[http]<=2024.12.0,>=2023.1.0->datasets->ragas==0.1.9)\n",
            "  Downloading fsspec-2024.12.0-py3-none-any.whl.metadata (11 kB)\n",
            "Requirement already satisfied: aiohttp in /usr/local/lib/python3.11/dist-packages (from datasets->ragas==0.1.9) (3.11.15)\n",
            "Requirement already satisfied: huggingface-hub>=0.24.0 in /usr/local/lib/python3.11/dist-packages (from datasets->ragas==0.1.9) (0.30.2)\n",
            "Requirement already satisfied: packaging in /usr/local/lib/python3.11/dist-packages (from datasets->ragas==0.1.9) (24.2)\n",
            "Requirement already satisfied: pyyaml>=5.1 in /usr/local/lib/python3.11/dist-packages (from datasets->ragas==0.1.9) (6.0.2)\n",
            "Requirement already satisfied: langchain-text-splitters<1.0.0,>=0.3.8 in /usr/local/lib/python3.11/dist-packages (from langchain->ragas==0.1.9) (0.3.8)\n",
            "Requirement already satisfied: langsmith<0.4,>=0.1.17 in /usr/local/lib/python3.11/dist-packages (from langchain->ragas==0.1.9) (0.3.33)\n",
            "Requirement already satisfied: SQLAlchemy<3,>=1.4 in /usr/local/lib/python3.11/dist-packages (from langchain->ragas==0.1.9) (2.0.40)\n",
            "Requirement already satisfied: tenacity!=8.4.0,<10.0.0,>=8.1.0 in /usr/local/lib/python3.11/dist-packages (from langchain-core->ragas==0.1.9) (9.1.2)\n",
            "Requirement already satisfied: jsonpatch<2.0,>=1.33 in /usr/local/lib/python3.11/dist-packages (from langchain-core->ragas==0.1.9) (1.33)\n",
            "Requirement already satisfied: dataclasses-json<0.7,>=0.5.7 in /usr/local/lib/python3.11/dist-packages (from langchain-community->ragas==0.1.9) (0.6.7)\n",
            "Requirement already satisfied: pydantic-settings<3.0.0,>=2.4.0 in /usr/local/lib/python3.11/dist-packages (from langchain-community->ragas==0.1.9) (2.9.1)\n",
            "Requirement already satisfied: httpx-sse<1.0.0,>=0.4.0 in /usr/local/lib/python3.11/dist-packages (from langchain-community->ragas==0.1.9) (0.4.0)\n",
            "Requirement already satisfied: regex>=2022.1.18 in /usr/local/lib/python3.11/dist-packages (from tiktoken->ragas==0.1.9) (2024.11.6)\n",
            "Requirement already satisfied: aiohappyeyeballs>=2.3.0 in /usr/local/lib/python3.11/dist-packages (from aiohttp->datasets->ragas==0.1.9) (2.6.1)\n",
            "Requirement already satisfied: aiosignal>=1.1.2 in /usr/local/lib/python3.11/dist-packages (from aiohttp->datasets->ragas==0.1.9) (1.3.2)\n",
            "Requirement already satisfied: attrs>=17.3.0 in /usr/local/lib/python3.11/dist-packages (from aiohttp->datasets->ragas==0.1.9) (25.3.0)\n",
            "Requirement already satisfied: frozenlist>=1.1.1 in /usr/local/lib/python3.11/dist-packages (from aiohttp->datasets->ragas==0.1.9) (1.6.0)\n",
            "Requirement already satisfied: multidict<7.0,>=4.5 in /usr/local/lib/python3.11/dist-packages (from aiohttp->datasets->ragas==0.1.9) (6.4.3)\n",
            "Requirement already satisfied: propcache>=0.2.0 in /usr/local/lib/python3.11/dist-packages (from aiohttp->datasets->ragas==0.1.9) (0.3.1)\n",
            "Requirement already satisfied: yarl<2.0,>=1.17.0 in /usr/local/lib/python3.11/dist-packages (from aiohttp->datasets->ragas==0.1.9) (1.20.0)\n",
            "Requirement already satisfied: idna>=2.8 in /usr/local/lib/python3.11/dist-packages (from anyio<5,>=3.5.0->openai>1->ragas==0.1.9) (3.10)\n",
            "Requirement already satisfied: marshmallow<4.0.0,>=3.18.0 in /usr/local/lib/python3.11/dist-packages (from dataclasses-json<0.7,>=0.5.7->langchain-community->ragas==0.1.9) (3.26.1)\n",
            "Requirement already satisfied: typing-inspect<1,>=0.4.0 in /usr/local/lib/python3.11/dist-packages (from dataclasses-json<0.7,>=0.5.7->langchain-community->ragas==0.1.9) (0.9.0)\n",
            "Requirement already satisfied: certifi in /usr/local/lib/python3.11/dist-packages (from httpx<1,>=0.23.0->openai>1->ragas==0.1.9) (2025.1.31)\n",
            "Requirement already satisfied: httpcore==1.* in /usr/local/lib/python3.11/dist-packages (from httpx<1,>=0.23.0->openai>1->ragas==0.1.9) (1.0.8)\n",
            "Requirement already satisfied: h11<0.15,>=0.13 in /usr/local/lib/python3.11/dist-packages (from httpcore==1.*->httpx<1,>=0.23.0->openai>1->ragas==0.1.9) (0.14.0)\n",
            "Requirement already satisfied: jsonpointer>=1.9 in /usr/local/lib/python3.11/dist-packages (from jsonpatch<2.0,>=1.33->langchain-core->ragas==0.1.9) (3.0.0)\n",
            "Requirement already satisfied: orjson<4.0.0,>=3.9.14 in /usr/local/lib/python3.11/dist-packages (from langsmith<0.4,>=0.1.17->langchain->ragas==0.1.9) (3.10.16)\n",
            "Requirement already satisfied: requests-toolbelt<2.0.0,>=1.0.0 in /usr/local/lib/python3.11/dist-packages (from langsmith<0.4,>=0.1.17->langchain->ragas==0.1.9) (1.0.0)\n",
            "Requirement already satisfied: zstandard<0.24.0,>=0.23.0 in /usr/local/lib/python3.11/dist-packages (from langsmith<0.4,>=0.1.17->langchain->ragas==0.1.9) (0.23.0)\n",
            "Requirement already satisfied: annotated-types>=0.6.0 in /usr/local/lib/python3.11/dist-packages (from pydantic<3,>=1.9.0->openai>1->ragas==0.1.9) (0.7.0)\n",
            "Requirement already satisfied: pydantic-core==2.33.1 in /usr/local/lib/python3.11/dist-packages (from pydantic<3,>=1.9.0->openai>1->ragas==0.1.9) (2.33.1)\n",
            "Requirement already satisfied: typing-inspection>=0.4.0 in /usr/local/lib/python3.11/dist-packages (from pydantic<3,>=1.9.0->openai>1->ragas==0.1.9) (0.4.0)\n",
            "Requirement already satisfied: python-dotenv>=0.21.0 in /usr/local/lib/python3.11/dist-packages (from pydantic-settings<3.0.0,>=2.4.0->langchain-community->ragas==0.1.9) (1.1.0)\n",
            "Requirement already satisfied: charset-normalizer<4,>=2 in /usr/local/lib/python3.11/dist-packages (from requests>=2.32.2->datasets->ragas==0.1.9) (3.4.1)\n",
            "Requirement already satisfied: urllib3<3,>=1.21.1 in /usr/local/lib/python3.11/dist-packages (from requests>=2.32.2->datasets->ragas==0.1.9) (2.3.0)\n",
            "Requirement already satisfied: greenlet>=1 in /usr/local/lib/python3.11/dist-packages (from SQLAlchemy<3,>=1.4->langchain->ragas==0.1.9) (3.2.1)\n",
            "Requirement already satisfied: python-dateutil>=2.8.2 in /usr/local/lib/python3.11/dist-packages (from pandas->datasets->ragas==0.1.9) (2.8.2)\n",
            "Requirement already satisfied: pytz>=2020.1 in /usr/local/lib/python3.11/dist-packages (from pandas->datasets->ragas==0.1.9) (2025.2)\n",
            "Requirement already satisfied: tzdata>=2022.7 in /usr/local/lib/python3.11/dist-packages (from pandas->datasets->ragas==0.1.9) (2025.2)\n",
            "Requirement already satisfied: six>=1.5 in /usr/local/lib/python3.11/dist-packages (from python-dateutil>=2.8.2->pandas->datasets->ragas==0.1.9) (1.17.0)\n",
            "Requirement already satisfied: mypy-extensions>=0.3.0 in /usr/local/lib/python3.11/dist-packages (from typing-inspect<1,>=0.4.0->dataclasses-json<0.7,>=0.5.7->langchain-community->ragas==0.1.9) (1.1.0)\n",
            "Downloading ragas-0.1.9-py3-none-any.whl (86 kB)\n",
            "\u001b[2K   \u001b[90m━━━━━━━━━━━━━━━━━━━━━━━━━━━━━━━━━━━━━━━━\u001b[0m \u001b[32m86.1/86.1 kB\u001b[0m \u001b[31m3.1 MB/s\u001b[0m eta \u001b[36m0:00:00\u001b[0m\n",
            "\u001b[?25hDownloading pysbd-0.3.4-py3-none-any.whl (71 kB)\n",
            "\u001b[2K   \u001b[90m━━━━━━━━━━━━━━━━━━━━━━━━━━━━━━━━━━━━━━━━\u001b[0m \u001b[32m71.1/71.1 kB\u001b[0m \u001b[31m5.6 MB/s\u001b[0m eta \u001b[36m0:00:00\u001b[0m\n",
            "\u001b[?25hDownloading appdirs-1.4.4-py2.py3-none-any.whl (9.6 kB)\n",
            "Downloading datasets-3.5.0-py3-none-any.whl (491 kB)\n",
            "\u001b[2K   \u001b[90m━━━━━━━━━━━━━━━━━━━━━━━━━━━━━━━━━━━━━━━━\u001b[0m \u001b[32m491.2/491.2 kB\u001b[0m \u001b[31m11.0 MB/s\u001b[0m eta \u001b[36m0:00:00\u001b[0m\n",
            "\u001b[?25hDownloading dill-0.3.8-py3-none-any.whl (116 kB)\n",
            "\u001b[2K   \u001b[90m━━━━━━━━━━━━━━━━━━━━━━━━━━━━━━━━━━━━━━━━\u001b[0m \u001b[32m116.3/116.3 kB\u001b[0m \u001b[31m7.9 MB/s\u001b[0m eta \u001b[36m0:00:00\u001b[0m\n",
            "\u001b[?25hDownloading fsspec-2024.12.0-py3-none-any.whl (183 kB)\n",
            "\u001b[2K   \u001b[90m━━━━━━━━━━━━━━━━━━━━━━━━━━━━━━━━━━━━━━━━\u001b[0m \u001b[32m183.9/183.9 kB\u001b[0m \u001b[31m13.0 MB/s\u001b[0m eta \u001b[36m0:00:00\u001b[0m\n",
            "\u001b[?25hDownloading multiprocess-0.70.16-py311-none-any.whl (143 kB)\n",
            "\u001b[2K   \u001b[90m━━━━━━━━━━━━━━━━━━━━━━━━━━━━━━━━━━━━━━━━\u001b[0m \u001b[32m143.5/143.5 kB\u001b[0m \u001b[31m10.0 MB/s\u001b[0m eta \u001b[36m0:00:00\u001b[0m\n",
            "\u001b[?25hDownloading xxhash-3.5.0-cp311-cp311-manylinux_2_17_x86_64.manylinux2014_x86_64.whl (194 kB)\n",
            "\u001b[2K   \u001b[90m━━━━━━━━━━━━━━━━━━━━━━━━━━━━━━━━━━━━━━━━\u001b[0m \u001b[32m194.8/194.8 kB\u001b[0m \u001b[31m15.7 MB/s\u001b[0m eta \u001b[36m0:00:00\u001b[0m\n",
            "\u001b[?25hInstalling collected packages: appdirs, xxhash, pysbd, fsspec, dill, multiprocess, datasets, ragas\n",
            "  Attempting uninstall: fsspec\n",
            "    Found existing installation: fsspec 2025.3.2\n",
            "    Uninstalling fsspec-2025.3.2:\n",
            "      Successfully uninstalled fsspec-2025.3.2\n",
            "\u001b[31mERROR: pip's dependency resolver does not currently take into account all the packages that are installed. This behaviour is the source of the following dependency conflicts.\n",
            "gcsfs 2025.3.2 requires fsspec==2025.3.2, but you have fsspec 2024.12.0 which is incompatible.\u001b[0m\u001b[31m\n",
            "\u001b[0mSuccessfully installed appdirs-1.4.4 datasets-3.5.0 dill-0.3.8 fsspec-2024.12.0 multiprocess-0.70.16 pysbd-0.3.4 ragas-0.1.9 xxhash-3.5.0\n"
          ]
        }
      ],
      "source": [
        "!pip install ragas==0.1.9"
      ]
    },
    {
      "cell_type": "code",
      "execution_count": 140,
      "id": "29b14c07-bf6c-4e86-ad1a-2a6c4d1a509d",
      "metadata": {
        "tags": [],
        "id": "29b14c07-bf6c-4e86-ad1a-2a6c4d1a509d"
      },
      "outputs": [],
      "source": [
        "from ragas.integrations.langchain import EvaluatorChain\n",
        "# from ragas import evaluate\n",
        "from ragas.metrics import (\n",
        "    faithfulness,\n",
        "    answer_relevancy,\n",
        "    context_relevancy,\n",
        "    context_recall,\n",
        ")\n",
        "\n",
        "# create evaluation chains\n",
        "faithfulness_chain   = EvaluatorChain(metric=faithfulness)\n",
        "answer_rel_chain     = EvaluatorChain(metric=answer_relevancy)\n",
        "context_rel_chain    = EvaluatorChain(metric=context_relevancy)\n",
        "context_recall_chain = EvaluatorChain(metric=context_recall)"
      ]
    },
    {
      "cell_type": "markdown",
      "id": "41a8b636-d738-41bd-ac68-21cce2c4b720",
      "metadata": {
        "id": "41a8b636-d738-41bd-ac68-21cce2c4b720"
      },
      "source": [
        "1. `__call__()`\n",
        "\n",
        "Directly run the evaluation chain with the results from the QA chain. Do note that metrics like context_relevancy and faithfulness require the `source_documents` to be present."
      ]
    },
    {
      "cell_type": "code",
      "execution_count": 141,
      "id": "7815671c-1fc8-46ba-8356-4a0bd5558530",
      "metadata": {
        "colab": {
          "base_uri": "https://localhost:8080/"
        },
        "id": "7815671c-1fc8-46ba-8356-4a0bd5558530",
        "outputId": "cd1fab81-0e22-4be2-ee6c-c01dbe24cd4e"
      },
      "outputs": [
        {
          "output_type": "execute_result",
          "data": {
            "text/plain": [
              "{'query': 'How has AI impacted various industries?',\n",
              " 'result': 'AI has had a significant impact on various industries, transforming the way businesses operate and improving efficiency. Here are some examples of how AI has impacted different sectors:\\n\\n1. Healthcare: AI is being used in healthcare for tasks like early disease diagnosis, personalized treatment plans, drug discovery, and medical imaging analysis. This has led to improved patient outcomes and more efficient healthcare delivery.\\n\\n2. Finance: In the finance industry, AI is used for fraud detection, algorithmic trading, risk assessment, and customer service chatbots. AI has helped financial institutions make faster and more accurate decisions, leading to better customer service and reduced risks.\\n\\n3. Retail: AI is used in retail for personalized recommendations, inventory management, demand forecasting, and customer service. This has improved the overall shopping experience for customers and helped retailers optimize their operations.\\n\\n4. Manufacturing: AI is used in manufacturing for predictive maintenance, quality control, supply chain optimization, and process automation. This has led to increased productivity, reduced downtime, and improved product quality.\\n\\n5. Transportation: AI has revolutionized the transportation industry with the development of self-driving cars, predictive maintenance for vehicles, route optimization, and traffic management systems. This has the potential to make transportation safer, more efficient, and environmentally friendly.\\n\\nOverall, AI has the potential to transform various industries by improving productivity, reducing costs, and enabling new capabilities that were not possible before.',\n",
              " 'source_documents': [Document(id='998e886b-d28a-4f08-90ec-66ef5acb80bf', metadata={'source': '/content/AI.txt'}, page_content='The Economic Impact of AI\\nAI’s impact on the economy will be profound. In the near future, companies will be able to use AI to improve productivity and reduce costs, leading to higher profits. Machines and intelligent systems will be able to perform many of the tasks previously handled by humans, improving efficiency and delivering products and services faster and more accurately. However, this technological advancement could also lead to the elimination of some traditional jobs, raising concerns about its impact on the job market. While AI will create new job opportunities in fields such as programming, data analysis, and cybersecurity, some simple jobs might disappear in the future.'),\n",
              "  Document(id='d7f51d3f-ee88-45bc-ab19-12678c88b966', metadata={'source': '/content/AI.txt'}, page_content='There is also growing concern that AI might exacerbate social and economic inequalities, as countries and companies with access to AI technologies will have a competitive edge over others. Moreover, questions arise about legal responsibility when an AI system makes a mistake, such as in an autonomous vehicle accident.\\n\\nThe Future of AI\\nThe future of AI appears promising but is fraught with challenges. As research in the field progresses, AI is expected to become more capable of simulating human cognitive processes in deeper and more complex ways. In the near future, we may see the development of systems capable of making more accurate decisions in areas such as healthcare, scientific research, and even politics.'),\n",
              "  Document(id='d867b883-6dad-4c9c-abcb-542a92f47c24', metadata={'source': '/content/AI.txt'}, page_content='However, societies and governments must be prepared to face the challenges that these technological changes may bring. It is crucial to develop laws and regulations that govern the use of AI and ensure that these technologies are used responsibly and safely for the benefit of all humanity.'),\n",
              "  Document(id='9bce195a-9d32-463c-bf91-badd386dca9e', metadata={'source': '/content/AI.txt'}, page_content='Today, AI is deeply integrated into almost every aspect of our daily lives. From smart assistants like Siri and Alexa to medical applications that use AI for early disease diagnosis, and scientific research leveraging AI to analyze data and discover new drugs. AI has also contributed to the development of self-driving cars, security and surveillance systems, and even art and creativity, such as generating music and painting using AI.')]}"
            ]
          },
          "metadata": {},
          "execution_count": 141
        }
      ],
      "source": [
        "# Recheck the result that we are going to validate.\n",
        "result"
      ]
    },
    {
      "cell_type": "markdown",
      "id": "8cfdd07c-956c-458f-8844-e056f29e3c83",
      "metadata": {
        "id": "8cfdd07c-956c-458f-8844-e056f29e3c83"
      },
      "source": [
        "**Faithfulness**"
      ]
    },
    {
      "cell_type": "code",
      "source": [
        "result_updated[\"contexts\"] = [doc.page_content for doc in result_updated[\"contexts\"]]\n"
      ],
      "metadata": {
        "id": "fZf6iNKhRCYs"
      },
      "id": "fZf6iNKhRCYs",
      "execution_count": 142,
      "outputs": []
    },
    {
      "cell_type": "code",
      "execution_count": 143,
      "id": "304f5f0f-a237-4584-becb-a35607caf26b",
      "metadata": {
        "colab": {
          "base_uri": "https://localhost:8080/"
        },
        "id": "304f5f0f-a237-4584-becb-a35607caf26b",
        "outputId": "aaa1e891-8b66-4774-c1fe-00f4f442a4c2"
      },
      "outputs": [
        {
          "output_type": "execute_result",
          "data": {
            "text/plain": [
              "0.85"
            ]
          },
          "metadata": {},
          "execution_count": 143
        }
      ],
      "source": [
        "eval_result = faithfulness_chain(result_updated)\n",
        "eval_result[\"faithfulness\"]"
      ]
    },
    {
      "cell_type": "markdown",
      "id": "8fbd78a9-d7c5-42a0-8705-4c544ec6408e",
      "metadata": {
        "id": "8fbd78a9-d7c5-42a0-8705-4c544ec6408e"
      },
      "source": [
        "High faithfulness_score means that there are exact consistency between the source documents and the answer.\n",
        "\n",
        "You can check lower faithfulness scores by changing the result (answer from LLM) or source_documents to something else."
      ]
    },
    {
      "cell_type": "code",
      "execution_count": 146,
      "id": "15f42b97-a84f-4015-9da5-fa3b0b703c24",
      "metadata": {
        "colab": {
          "base_uri": "https://localhost:8080/"
        },
        "id": "15f42b97-a84f-4015-9da5-fa3b0b703c24",
        "outputId": "f5851854-8364-462b-c4c9-d02d63d2a7aa"
      },
      "outputs": [
        {
          "output_type": "stream",
          "name": "stderr",
          "text": [
            "WARNING:ragas.metrics._faithfulness:No statements were generated from the answer.\n"
          ]
        },
        {
          "output_type": "execute_result",
          "data": {
            "text/plain": [
              "nan"
            ]
          },
          "metadata": {},
          "execution_count": 146
        }
      ],
      "source": [
        "fake_result = result.copy()\n",
        "fake_result[\"result\"] = \"what is economic impact of AI\"\n",
        "\n",
        "# Create a new dictionary with the expected keys\n",
        "updated_fake_result = {\n",
        "    \"question\": fake_result.get(\"query\"),\n",
        "    \"answer\": fake_result.get(\"result\"),\n",
        "    \"contexts\": [doc.page_content for doc in fake_result.get(\"source_documents\", [])]\n",
        "}\n",
        "\n",
        "# Pass the updated dictionary to faithfulness_chain\n",
        "eval_result = faithfulness_chain(updated_fake_result)\n",
        "eval_result[\"faithfulness\"]  # Access using \"faithfulness_score\""
      ]
    },
    {
      "cell_type": "markdown",
      "id": "02348380-159a-4578-a95e-493cdcfcebe7",
      "metadata": {
        "id": "02348380-159a-4578-a95e-493cdcfcebe7"
      },
      "source": [
        "**Context Relevancy**"
      ]
    },
    {
      "cell_type": "code",
      "source": [
        "# For context_recall_chain:\n",
        "eval_result = context_recall_chain({\n",
        "    \"question\": result[\"query\"],\n",
        "    \"contexts\": [doc.page_content for doc in result[\"source_documents\"]],\n",
        "    \"ground_truth\": eval_answers[eval_questions.index(result[\"query\"])] # Assuming eval_answers contains ground truths for eval_questions\n",
        "})\n",
        "eval_result[\"context_recall\"]\n"
      ],
      "metadata": {
        "colab": {
          "base_uri": "https://localhost:8080/"
        },
        "id": "RbrWZCh7dMjF",
        "outputId": "db589d4e-791a-40d0-91e2-52ad4cf60aaa"
      },
      "id": "RbrWZCh7dMjF",
      "execution_count": 147,
      "outputs": [
        {
          "output_type": "execute_result",
          "data": {
            "text/plain": [
              "0.3333333333333333"
            ]
          },
          "metadata": {},
          "execution_count": 147
        }
      ]
    },
    {
      "cell_type": "markdown",
      "id": "118cba80-c2a3-408e-9d8d-857521cbe723",
      "metadata": {
        "id": "118cba80-c2a3-408e-9d8d-857521cbe723"
      },
      "source": [
        "High context_recall_score means that the ground truth is present in the source documents.\n",
        "\n",
        "You can check lower context recall scores by changing the source_documents to something else."
      ]
    },
    {
      "cell_type": "code",
      "source": [
        "from langchain.schema import Document\n",
        "\n",
        "fake_result = result.copy()\n",
        "fake_result[\"source_documents\"] = [Document(page_content=\"I love AI\")]\n",
        "\n",
        "updated_fake_result = {\n",
        "    \"question\": fake_result.get(\"query\"),\n",
        "    \"contexts\": [doc.page_content for doc in fake_result.get(\"source_documents\", [])],\n",
        "    \"ground_truth\": eval_answers[eval_questions.index(fake_result.get(\"query\", \"\"))]\n",
        "}\n",
        "\n",
        "eval_result = context_recall_chain(updated_fake_result)\n",
        "eval_result[\"context_recall\"]"
      ],
      "metadata": {
        "colab": {
          "base_uri": "https://localhost:8080/"
        },
        "id": "Iak2g2ekeHrr",
        "outputId": "ac7ce86e-1160-404c-838c-e3531e9c3e9d"
      },
      "id": "Iak2g2ekeHrr",
      "execution_count": 149,
      "outputs": [
        {
          "output_type": "execute_result",
          "data": {
            "text/plain": [
              "0.0"
            ]
          },
          "metadata": {},
          "execution_count": 149
        }
      ]
    },
    {
      "cell_type": "markdown",
      "id": "3dc06403-c514-47fd-ac82-d95ece8d2f06",
      "metadata": {
        "id": "3dc06403-c514-47fd-ac82-d95ece8d2f06"
      },
      "source": [
        "2. `evaluate()`\n",
        "\n",
        "Evaluate a list of inputs/queries and the outputs/predictions from the QA chain."
      ]
    },
    {
      "cell_type": "code",
      "source": [
        "# run the queries as a batch for efficiency\n",
        "predictions = qa_chain.batch(examples)\n",
        "\n",
        "# Update keys to match expected input format\n",
        "updated_predictions = []\n",
        "for prediction in predictions:\n",
        "    updated_prediction = {\n",
        "        \"question\": prediction.get(\"query\"),\n",
        "        \"answer\": prediction.get(\"result\"),\n",
        "        \"contexts\": [doc.page_content for doc in prediction.get(\"source_documents\", [])]\n",
        "    }\n",
        "    updated_predictions.append(updated_prediction)\n",
        "\n",
        "print(\"evaluating...\")\n",
        "r = [faithfulness_chain(prediction) for prediction in updated_predictions]\n",
        "r"
      ],
      "metadata": {
        "colab": {
          "base_uri": "https://localhost:8080/"
        },
        "id": "P5l4AwWhfR4J",
        "outputId": "0e330e51-ec94-4ba3-cb0f-7e1ddf56911c"
      },
      "id": "P5l4AwWhfR4J",
      "execution_count": 150,
      "outputs": [
        {
          "output_type": "stream",
          "name": "stdout",
          "text": [
            "evaluating...\n"
          ]
        },
        {
          "output_type": "execute_result",
          "data": {
            "text/plain": [
              "[{'question': 'What is Artificial Intelligence (AI)?',\n",
              "  'answer': 'Artificial Intelligence (AI) involves the design of systems and software capable of performing tasks that usually require human intelligence. These tasks include learning, logical thinking, problem-solving, planning, recognizing speech and images, translating languages, and even creativity. AI has evolved significantly since its inception and is now deeply integrated into various aspects of our daily lives.',\n",
              "  'contexts': ['Artificial Intelligence and Its Impact on the Future\\n\\nArtificial intelligence (AI) is one of the most fascinating and debated fields in technology. It involves the design of systems and software capable of performing tasks that usually require human intelligence. These tasks include learning, logical thinking, problem-solving, planning, recognizing speech and images, translating languages, and even creativity.\\n\\nAI has come a long way since it first emerged as an idea in the minds of scientists and philosophers. In the 1950s, the concept of AI was introduced by pioneers like Alan Turing, who proposed a test to measure the ability of machines to mimic human intelligence, now known as the \"Turing Test.\" Since then, intelligent systems have achieved significant progress across various domains.',\n",
              "   'Today, AI is deeply integrated into almost every aspect of our daily lives. From smart assistants like Siri and Alexa to medical applications that use AI for early disease diagnosis, and scientific research leveraging AI to analyze data and discover new drugs. AI has also contributed to the development of self-driving cars, security and surveillance systems, and even art and creativity, such as generating music and painting using AI.',\n",
              "   'There is also growing concern that AI might exacerbate social and economic inequalities, as countries and companies with access to AI technologies will have a competitive edge over others. Moreover, questions arise about legal responsibility when an AI system makes a mistake, such as in an autonomous vehicle accident.\\n\\nThe Future of AI\\nThe future of AI appears promising but is fraught with challenges. As research in the field progresses, AI is expected to become more capable of simulating human cognitive processes in deeper and more complex ways. In the near future, we may see the development of systems capable of making more accurate decisions in areas such as healthcare, scientific research, and even politics.',\n",
              "   'The Economic Impact of AI\\nAI’s impact on the economy will be profound. In the near future, companies will be able to use AI to improve productivity and reduce costs, leading to higher profits. Machines and intelligent systems will be able to perform many of the tasks previously handled by humans, improving efficiency and delivering products and services faster and more accurately. However, this technological advancement could also lead to the elimination of some traditional jobs, raising concerns about its impact on the job market. While AI will create new job opportunities in fields such as programming, data analysis, and cybersecurity, some simple jobs might disappear in the future.'],\n",
              "  'faithfulness': 1.0},\n",
              " {'question': 'How has AI impacted various industries?',\n",
              "  'answer': 'AI has had a significant impact on various industries by improving productivity, efficiency, and innovation. Here are some examples of how AI has impacted different sectors:\\n\\n1. Healthcare: AI is being used for early disease diagnosis, personalized treatment plans, drug discovery, and medical image analysis. It has helped healthcare professionals make more accurate diagnoses and provide better patient care.\\n\\n2. Finance: AI is used in the finance industry for fraud detection, algorithmic trading, risk assessment, and customer service. It has improved decision-making processes and helped companies manage financial risks more effectively.\\n\\n3. Retail: AI is used in retail for personalized recommendations, inventory management, supply chain optimization, and customer service chatbots. It has enhanced the shopping experience for customers and helped companies increase sales and customer satisfaction.\\n\\n4. Manufacturing: AI is used in manufacturing for predictive maintenance, quality control, process optimization, and supply chain management. It has helped companies reduce downtime, improve product quality, and streamline operations.\\n\\n5. Transportation: AI is used in transportation for route optimization, autonomous vehicles, traffic management, and predictive maintenance. It has improved safety, efficiency, and sustainability in the transportation sector.\\n\\nOverall, AI has transformed various industries by automating tasks, improving decision-making processes, and enabling new capabilities that were not possible before.',\n",
              "  'contexts': ['The Economic Impact of AI\\nAI’s impact on the economy will be profound. In the near future, companies will be able to use AI to improve productivity and reduce costs, leading to higher profits. Machines and intelligent systems will be able to perform many of the tasks previously handled by humans, improving efficiency and delivering products and services faster and more accurately. However, this technological advancement could also lead to the elimination of some traditional jobs, raising concerns about its impact on the job market. While AI will create new job opportunities in fields such as programming, data analysis, and cybersecurity, some simple jobs might disappear in the future.',\n",
              "   'There is also growing concern that AI might exacerbate social and economic inequalities, as countries and companies with access to AI technologies will have a competitive edge over others. Moreover, questions arise about legal responsibility when an AI system makes a mistake, such as in an autonomous vehicle accident.\\n\\nThe Future of AI\\nThe future of AI appears promising but is fraught with challenges. As research in the field progresses, AI is expected to become more capable of simulating human cognitive processes in deeper and more complex ways. In the near future, we may see the development of systems capable of making more accurate decisions in areas such as healthcare, scientific research, and even politics.',\n",
              "   'However, societies and governments must be prepared to face the challenges that these technological changes may bring. It is crucial to develop laws and regulations that govern the use of AI and ensure that these technologies are used responsibly and safely for the benefit of all humanity.',\n",
              "   'Today, AI is deeply integrated into almost every aspect of our daily lives. From smart assistants like Siri and Alexa to medical applications that use AI for early disease diagnosis, and scientific research leveraging AI to analyze data and discover new drugs. AI has also contributed to the development of self-driving cars, security and surveillance systems, and even art and creativity, such as generating music and painting using AI.'],\n",
              "  'faithfulness': 0.3076923076923077},\n",
              " {'question': 'What are the potential risks associated with AI?',\n",
              "  'answer': 'Some potential risks associated with AI include:\\n\\n1. Job Displacement: AI advancements could lead to the elimination of some traditional jobs, potentially causing unemployment in certain sectors.\\n\\n2. Social and Economic Inequalities: Access to AI technologies may create disparities between countries and companies, giving those with access a competitive advantage.\\n\\n3. Legal and Ethical Concerns: Questions arise about legal responsibility when AI systems make mistakes, such as in autonomous vehicle accidents. Ethical considerations regarding AI decision-making and biases are also important.\\n\\n4. Privacy and Security: AI systems may pose risks to privacy and security if not properly secured, leading to data breaches and misuse of personal information.\\n\\n5. Autonomous Decision-Making: Concerns exist about the implications of AI systems making critical decisions without human intervention, especially in sensitive areas like healthcare or criminal justice.\\n\\n6. Misuse of AI: There is a risk of AI being misused for malicious purposes, such as creating deepfakes, spreading misinformation, or conducting cyberattacks.\\n\\nIt is essential for societies and governments to address these risks through regulations, ethical guidelines, and responsible use of AI technologies.',\n",
              "  'contexts': ['The Economic Impact of AI\\nAI’s impact on the economy will be profound. In the near future, companies will be able to use AI to improve productivity and reduce costs, leading to higher profits. Machines and intelligent systems will be able to perform many of the tasks previously handled by humans, improving efficiency and delivering products and services faster and more accurately. However, this technological advancement could also lead to the elimination of some traditional jobs, raising concerns about its impact on the job market. While AI will create new job opportunities in fields such as programming, data analysis, and cybersecurity, some simple jobs might disappear in the future.',\n",
              "   'There is also growing concern that AI might exacerbate social and economic inequalities, as countries and companies with access to AI technologies will have a competitive edge over others. Moreover, questions arise about legal responsibility when an AI system makes a mistake, such as in an autonomous vehicle accident.\\n\\nThe Future of AI\\nThe future of AI appears promising but is fraught with challenges. As research in the field progresses, AI is expected to become more capable of simulating human cognitive processes in deeper and more complex ways. In the near future, we may see the development of systems capable of making more accurate decisions in areas such as healthcare, scientific research, and even politics.',\n",
              "   'However, societies and governments must be prepared to face the challenges that these technological changes may bring. It is crucial to develop laws and regulations that govern the use of AI and ensure that these technologies are used responsibly and safely for the benefit of all humanity.',\n",
              "   'Today, AI is deeply integrated into almost every aspect of our daily lives. From smart assistants like Siri and Alexa to medical applications that use AI for early disease diagnosis, and scientific research leveraging AI to analyze data and discover new drugs. AI has also contributed to the development of self-driving cars, security and surveillance systems, and even art and creativity, such as generating music and painting using AI.'],\n",
              "  'faithfulness': 0.6428571428571429},\n",
              " {'question': 'What is the future outlook for AI technology?',\n",
              "  'answer': 'The future outlook for AI technology is promising but also comes with challenges. As research progresses, AI is expected to become more capable of simulating human cognitive processes in deeper and more complex ways. This could lead to the development of systems capable of making more accurate decisions in areas such as healthcare, scientific research, and politics. However, societies and governments must be prepared to address the challenges that these advancements may bring, including developing laws and regulations to govern the responsible and safe use of AI for the benefit of all humanity.',\n",
              "  'contexts': ['The Economic Impact of AI\\nAI’s impact on the economy will be profound. In the near future, companies will be able to use AI to improve productivity and reduce costs, leading to higher profits. Machines and intelligent systems will be able to perform many of the tasks previously handled by humans, improving efficiency and delivering products and services faster and more accurately. However, this technological advancement could also lead to the elimination of some traditional jobs, raising concerns about its impact on the job market. While AI will create new job opportunities in fields such as programming, data analysis, and cybersecurity, some simple jobs might disappear in the future.',\n",
              "   'There is also growing concern that AI might exacerbate social and economic inequalities, as countries and companies with access to AI technologies will have a competitive edge over others. Moreover, questions arise about legal responsibility when an AI system makes a mistake, such as in an autonomous vehicle accident.\\n\\nThe Future of AI\\nThe future of AI appears promising but is fraught with challenges. As research in the field progresses, AI is expected to become more capable of simulating human cognitive processes in deeper and more complex ways. In the near future, we may see the development of systems capable of making more accurate decisions in areas such as healthcare, scientific research, and even politics.',\n",
              "   'However, societies and governments must be prepared to face the challenges that these technological changes may bring. It is crucial to develop laws and regulations that govern the use of AI and ensure that these technologies are used responsibly and safely for the benefit of all humanity.',\n",
              "   'Artificial Intelligence and Its Impact on the Future\\n\\nArtificial intelligence (AI) is one of the most fascinating and debated fields in technology. It involves the design of systems and software capable of performing tasks that usually require human intelligence. These tasks include learning, logical thinking, problem-solving, planning, recognizing speech and images, translating languages, and even creativity.\\n\\nAI has come a long way since it first emerged as an idea in the minds of scientists and philosophers. In the 1950s, the concept of AI was introduced by pioneers like Alan Turing, who proposed a test to measure the ability of machines to mimic human intelligence, now known as the \"Turing Test.\" Since then, intelligent systems have achieved significant progress across various domains.'],\n",
              "  'faithfulness': 1.0},\n",
              " {'question': 'How is AI used in education?',\n",
              "  'answer': \"AI is used in education in various ways to enhance learning experiences. Some of the key applications of AI in education include:\\n\\n1. Personalized Learning: AI systems can analyze students' learning patterns and behaviors to provide personalized learning materials and resources tailored to their individual needs and pace.\\n\\n2. Intelligent Tutoring Systems: AI-powered tutoring systems can offer interactive and adaptive learning experiences, providing immediate feedback and guidance to students as they progress through educational content.\\n\\n3. Virtual Classrooms: AI can facilitate remote learning by managing virtual classrooms, assisting teachers in tracking student progress, and offering precise evaluations to enhance the overall learning experience.\\n\\n4. Educational Robots: Some schools use educational robots to teach complex scientific and technological concepts interactively, engaging students in hands-on learning experiences.\\n\\nOverall, AI in education aims to customize learning methods, monitor student progress, and provide personalized educational resources to optimize learning outcomes.\",\n",
              "  'contexts': [\"AI in Education\\nIn the field of education, AI is a powerful tool for customizing learning methods based on students' needs. Intelligent systems can monitor students' progress and provide personalized educational resources to enhance their skills. Additionally, educational robots are being used in some schools to teach students complex scientific and technological concepts interactively.\\n\\nAI can also improve remote learning opportunities, where intelligent systems can manage virtual classrooms, assist teachers in tracking student progress, and offer precise evaluations. This allows students to have more personalized and accurate learning experiences.\\n\\nChallenges and Potential Risks\\nWhile AI offers numerous benefits, it also presents several concerns. One of the main challenges is security, as AI systems could be used for malicious purposes or pose national security threats. For example, AI could be employed to develop autonomous weapons or conduct sophisticated cyber-attacks.\",\n",
              "   'Artificial Intelligence and Its Impact on the Future\\n\\nArtificial intelligence (AI) is one of the most fascinating and debated fields in technology. It involves the design of systems and software capable of performing tasks that usually require human intelligence. These tasks include learning, logical thinking, problem-solving, planning, recognizing speech and images, translating languages, and even creativity.\\n\\nAI has come a long way since it first emerged as an idea in the minds of scientists and philosophers. In the 1950s, the concept of AI was introduced by pioneers like Alan Turing, who proposed a test to measure the ability of machines to mimic human intelligence, now known as the \"Turing Test.\" Since then, intelligent systems have achieved significant progress across various domains.',\n",
              "   'Today, AI is deeply integrated into almost every aspect of our daily lives. From smart assistants like Siri and Alexa to medical applications that use AI for early disease diagnosis, and scientific research leveraging AI to analyze data and discover new drugs. AI has also contributed to the development of self-driving cars, security and surveillance systems, and even art and creativity, such as generating music and painting using AI.',\n",
              "   'AI in Daily Life\\nIn our daily lives, AI has become an integral part of many devices and systems that we use. Smartphones today are equipped with features that rely heavily on AI, such as voice assistants, calendar management, and text and image analysis. For instance, programs like Google Assistant and Apple Siri can interact with users, answer questions, help locate places, or send text messages.\\n\\nAI has also added new dimensions to the entertainment industry, such as augmented reality films and games that use advanced algorithms to create personalized experiences for players. Streaming platforms like Netflix and Spotify use AI algorithms to analyze user preferences and provide tailored recommendations.'],\n",
              "  'faithfulness': 1.0}]"
            ]
          },
          "metadata": {},
          "execution_count": 150
        }
      ]
    },
    {
      "cell_type": "code",
      "source": [
        "# run the queries as a batch for efficiency\n",
        "predictions = qa_chain.batch(examples)\n",
        "\n",
        "# Update keys to match expected input format\n",
        "updated_predictions = []\n",
        "for prediction in predictions:\n",
        "    updated_prediction = {\n",
        "        \"question\": prediction.get(\"query\"),\n",
        "        \"answer\": prediction.get(\"result\"),\n",
        "        \"contexts\": [doc.page_content for doc in prediction.get(\"source_documents\", [])]\n",
        "    }\n",
        "    updated_predictions.append(updated_prediction)\n",
        "\n",
        "print(\"evaluating...\")\n",
        "r = [faithfulness_chain(prediction) for prediction in updated_predictions] # Use updated_predictions here\n",
        "r"
      ],
      "metadata": {
        "colab": {
          "base_uri": "https://localhost:8080/"
        },
        "id": "thLncML8gbs3",
        "outputId": "30ae5da2-3b8d-4eb8-ef96-23ea8174570e"
      },
      "id": "thLncML8gbs3",
      "execution_count": 151,
      "outputs": [
        {
          "output_type": "stream",
          "name": "stdout",
          "text": [
            "evaluating...\n"
          ]
        },
        {
          "output_type": "execute_result",
          "data": {
            "text/plain": [
              "[{'question': 'What is Artificial Intelligence (AI)?',\n",
              "  'answer': 'Artificial Intelligence (AI) involves the design of systems and software capable of performing tasks that usually require human intelligence. These tasks include learning, logical thinking, problem-solving, planning, recognizing speech and images, translating languages, and even creativity. AI has evolved significantly since its inception and is now deeply integrated into various aspects of our daily lives, from smart assistants to medical applications and scientific research.',\n",
              "  'contexts': ['Artificial Intelligence and Its Impact on the Future\\n\\nArtificial intelligence (AI) is one of the most fascinating and debated fields in technology. It involves the design of systems and software capable of performing tasks that usually require human intelligence. These tasks include learning, logical thinking, problem-solving, planning, recognizing speech and images, translating languages, and even creativity.\\n\\nAI has come a long way since it first emerged as an idea in the minds of scientists and philosophers. In the 1950s, the concept of AI was introduced by pioneers like Alan Turing, who proposed a test to measure the ability of machines to mimic human intelligence, now known as the \"Turing Test.\" Since then, intelligent systems have achieved significant progress across various domains.',\n",
              "   'Today, AI is deeply integrated into almost every aspect of our daily lives. From smart assistants like Siri and Alexa to medical applications that use AI for early disease diagnosis, and scientific research leveraging AI to analyze data and discover new drugs. AI has also contributed to the development of self-driving cars, security and surveillance systems, and even art and creativity, such as generating music and painting using AI.',\n",
              "   'There is also growing concern that AI might exacerbate social and economic inequalities, as countries and companies with access to AI technologies will have a competitive edge over others. Moreover, questions arise about legal responsibility when an AI system makes a mistake, such as in an autonomous vehicle accident.\\n\\nThe Future of AI\\nThe future of AI appears promising but is fraught with challenges. As research in the field progresses, AI is expected to become more capable of simulating human cognitive processes in deeper and more complex ways. In the near future, we may see the development of systems capable of making more accurate decisions in areas such as healthcare, scientific research, and even politics.',\n",
              "   'The Economic Impact of AI\\nAI’s impact on the economy will be profound. In the near future, companies will be able to use AI to improve productivity and reduce costs, leading to higher profits. Machines and intelligent systems will be able to perform many of the tasks previously handled by humans, improving efficiency and delivering products and services faster and more accurately. However, this technological advancement could also lead to the elimination of some traditional jobs, raising concerns about its impact on the job market. While AI will create new job opportunities in fields such as programming, data analysis, and cybersecurity, some simple jobs might disappear in the future.'],\n",
              "  'faithfulness': 1.0},\n",
              " {'question': 'How has AI impacted various industries?',\n",
              "  'answer': 'AI has had a significant impact on various industries by improving productivity, efficiency, and innovation. In healthcare, AI is being used for early disease diagnosis, personalized treatment plans, and drug discovery. In finance, AI is utilized for fraud detection, algorithmic trading, and customer service chatbots. In manufacturing, AI is improving automation, predictive maintenance, and quality control. In retail, AI is enhancing customer experience through personalized recommendations and inventory management. In transportation, AI is driving advancements in self-driving cars and optimizing logistics. Overall, AI is transforming industries by streamlining processes, reducing costs, and enabling new capabilities.',\n",
              "  'contexts': ['The Economic Impact of AI\\nAI’s impact on the economy will be profound. In the near future, companies will be able to use AI to improve productivity and reduce costs, leading to higher profits. Machines and intelligent systems will be able to perform many of the tasks previously handled by humans, improving efficiency and delivering products and services faster and more accurately. However, this technological advancement could also lead to the elimination of some traditional jobs, raising concerns about its impact on the job market. While AI will create new job opportunities in fields such as programming, data analysis, and cybersecurity, some simple jobs might disappear in the future.',\n",
              "   'There is also growing concern that AI might exacerbate social and economic inequalities, as countries and companies with access to AI technologies will have a competitive edge over others. Moreover, questions arise about legal responsibility when an AI system makes a mistake, such as in an autonomous vehicle accident.\\n\\nThe Future of AI\\nThe future of AI appears promising but is fraught with challenges. As research in the field progresses, AI is expected to become more capable of simulating human cognitive processes in deeper and more complex ways. In the near future, we may see the development of systems capable of making more accurate decisions in areas such as healthcare, scientific research, and even politics.',\n",
              "   'However, societies and governments must be prepared to face the challenges that these technological changes may bring. It is crucial to develop laws and regulations that govern the use of AI and ensure that these technologies are used responsibly and safely for the benefit of all humanity.',\n",
              "   'Today, AI is deeply integrated into almost every aspect of our daily lives. From smart assistants like Siri and Alexa to medical applications that use AI for early disease diagnosis, and scientific research leveraging AI to analyze data and discover new drugs. AI has also contributed to the development of self-driving cars, security and surveillance systems, and even art and creativity, such as generating music and painting using AI.'],\n",
              "  'faithfulness': 0.5},\n",
              " {'question': 'What are the potential risks associated with AI?',\n",
              "  'answer': 'Some potential risks associated with AI include:\\n\\n1. Job Displacement: AI advancements could lead to the elimination of traditional jobs, potentially causing unemployment and economic disruption in certain sectors.\\n\\n2. Social and Economic Inequalities: Access to AI technologies may create disparities between countries and companies, leading to increased inequality.\\n\\n3. Legal and Ethical Concerns: Questions about legal responsibility arise when AI systems make mistakes, such as in autonomous vehicle accidents, raising ethical and legal challenges.\\n\\n4. Privacy and Security: AI systems may pose risks to privacy and security if not properly regulated, leading to concerns about data breaches and misuse of personal information.\\n\\n5. Bias and Discrimination: AI algorithms can inherit biases from the data they are trained on, potentially leading to discriminatory outcomes in areas like hiring, lending, and criminal justice.\\n\\n6. Autonomous Weapons: The development of AI-powered autonomous weapons raises concerns about the potential for misuse and lack of human control in military operations.\\n\\nThese risks highlight the importance of developing regulations and ethical guidelines to ensure the responsible and safe use of AI technologies.',\n",
              "  'contexts': ['The Economic Impact of AI\\nAI’s impact on the economy will be profound. In the near future, companies will be able to use AI to improve productivity and reduce costs, leading to higher profits. Machines and intelligent systems will be able to perform many of the tasks previously handled by humans, improving efficiency and delivering products and services faster and more accurately. However, this technological advancement could also lead to the elimination of some traditional jobs, raising concerns about its impact on the job market. While AI will create new job opportunities in fields such as programming, data analysis, and cybersecurity, some simple jobs might disappear in the future.',\n",
              "   'There is also growing concern that AI might exacerbate social and economic inequalities, as countries and companies with access to AI technologies will have a competitive edge over others. Moreover, questions arise about legal responsibility when an AI system makes a mistake, such as in an autonomous vehicle accident.\\n\\nThe Future of AI\\nThe future of AI appears promising but is fraught with challenges. As research in the field progresses, AI is expected to become more capable of simulating human cognitive processes in deeper and more complex ways. In the near future, we may see the development of systems capable of making more accurate decisions in areas such as healthcare, scientific research, and even politics.',\n",
              "   'However, societies and governments must be prepared to face the challenges that these technological changes may bring. It is crucial to develop laws and regulations that govern the use of AI and ensure that these technologies are used responsibly and safely for the benefit of all humanity.',\n",
              "   'Today, AI is deeply integrated into almost every aspect of our daily lives. From smart assistants like Siri and Alexa to medical applications that use AI for early disease diagnosis, and scientific research leveraging AI to analyze data and discover new drugs. AI has also contributed to the development of self-driving cars, security and surveillance systems, and even art and creativity, such as generating music and painting using AI.'],\n",
              "  'faithfulness': 1.0},\n",
              " {'question': 'What is the future outlook for AI technology?',\n",
              "  'answer': 'The future outlook for AI technology is promising but also comes with challenges. As research progresses, AI is expected to become more capable of simulating human cognitive processes in deeper and more complex ways. This could lead to the development of systems capable of making more accurate decisions in areas such as healthcare, scientific research, and politics. However, societies and governments must be prepared to address the challenges that these advancements may bring, including the need for laws and regulations to govern the responsible and safe use of AI for the benefit of all humanity.',\n",
              "  'contexts': ['The Economic Impact of AI\\nAI’s impact on the economy will be profound. In the near future, companies will be able to use AI to improve productivity and reduce costs, leading to higher profits. Machines and intelligent systems will be able to perform many of the tasks previously handled by humans, improving efficiency and delivering products and services faster and more accurately. However, this technological advancement could also lead to the elimination of some traditional jobs, raising concerns about its impact on the job market. While AI will create new job opportunities in fields such as programming, data analysis, and cybersecurity, some simple jobs might disappear in the future.',\n",
              "   'There is also growing concern that AI might exacerbate social and economic inequalities, as countries and companies with access to AI technologies will have a competitive edge over others. Moreover, questions arise about legal responsibility when an AI system makes a mistake, such as in an autonomous vehicle accident.\\n\\nThe Future of AI\\nThe future of AI appears promising but is fraught with challenges. As research in the field progresses, AI is expected to become more capable of simulating human cognitive processes in deeper and more complex ways. In the near future, we may see the development of systems capable of making more accurate decisions in areas such as healthcare, scientific research, and even politics.',\n",
              "   'However, societies and governments must be prepared to face the challenges that these technological changes may bring. It is crucial to develop laws and regulations that govern the use of AI and ensure that these technologies are used responsibly and safely for the benefit of all humanity.',\n",
              "   'Artificial Intelligence and Its Impact on the Future\\n\\nArtificial intelligence (AI) is one of the most fascinating and debated fields in technology. It involves the design of systems and software capable of performing tasks that usually require human intelligence. These tasks include learning, logical thinking, problem-solving, planning, recognizing speech and images, translating languages, and even creativity.\\n\\nAI has come a long way since it first emerged as an idea in the minds of scientists and philosophers. In the 1950s, the concept of AI was introduced by pioneers like Alan Turing, who proposed a test to measure the ability of machines to mimic human intelligence, now known as the \"Turing Test.\" Since then, intelligent systems have achieved significant progress across various domains.'],\n",
              "  'faithfulness': 1.0},\n",
              " {'question': 'How is AI used in education?',\n",
              "  'answer': \"AI is used in education in various ways to enhance learning experiences. Some of the key applications of AI in education include:\\n\\n1. Personalized Learning: AI systems can analyze students' learning patterns and behaviors to provide personalized learning materials and resources tailored to their individual needs and pace.\\n\\n2. Intelligent Tutoring Systems: AI-powered tutoring systems can offer interactive and adaptive learning experiences, providing immediate feedback and guidance to students as they progress through educational content.\\n\\n3. Virtual Classrooms: AI can facilitate remote learning by managing virtual classrooms, assisting teachers in tracking student progress, and offering precise evaluations to enhance the overall learning experience.\\n\\n4. Educational Robots: Some schools use educational robots to teach complex scientific and technological concepts interactively, engaging students in hands-on learning experiences.\\n\\nOverall, AI in education aims to make learning more engaging, personalized, and effective by leveraging intelligent systems to support both students and teachers in the educational process.\",\n",
              "  'contexts': [\"AI in Education\\nIn the field of education, AI is a powerful tool for customizing learning methods based on students' needs. Intelligent systems can monitor students' progress and provide personalized educational resources to enhance their skills. Additionally, educational robots are being used in some schools to teach students complex scientific and technological concepts interactively.\\n\\nAI can also improve remote learning opportunities, where intelligent systems can manage virtual classrooms, assist teachers in tracking student progress, and offer precise evaluations. This allows students to have more personalized and accurate learning experiences.\\n\\nChallenges and Potential Risks\\nWhile AI offers numerous benefits, it also presents several concerns. One of the main challenges is security, as AI systems could be used for malicious purposes or pose national security threats. For example, AI could be employed to develop autonomous weapons or conduct sophisticated cyber-attacks.\",\n",
              "   'Artificial Intelligence and Its Impact on the Future\\n\\nArtificial intelligence (AI) is one of the most fascinating and debated fields in technology. It involves the design of systems and software capable of performing tasks that usually require human intelligence. These tasks include learning, logical thinking, problem-solving, planning, recognizing speech and images, translating languages, and even creativity.\\n\\nAI has come a long way since it first emerged as an idea in the minds of scientists and philosophers. In the 1950s, the concept of AI was introduced by pioneers like Alan Turing, who proposed a test to measure the ability of machines to mimic human intelligence, now known as the \"Turing Test.\" Since then, intelligent systems have achieved significant progress across various domains.',\n",
              "   'Today, AI is deeply integrated into almost every aspect of our daily lives. From smart assistants like Siri and Alexa to medical applications that use AI for early disease diagnosis, and scientific research leveraging AI to analyze data and discover new drugs. AI has also contributed to the development of self-driving cars, security and surveillance systems, and even art and creativity, such as generating music and painting using AI.',\n",
              "   'AI in Daily Life\\nIn our daily lives, AI has become an integral part of many devices and systems that we use. Smartphones today are equipped with features that rely heavily on AI, such as voice assistants, calendar management, and text and image analysis. For instance, programs like Google Assistant and Apple Siri can interact with users, answer questions, help locate places, or send text messages.\\n\\nAI has also added new dimensions to the entertainment industry, such as augmented reality films and games that use advanced algorithms to create personalized experiences for players. Streaming platforms like Netflix and Spotify use AI algorithms to analyze user preferences and provide tailored recommendations.'],\n",
              "  'faithfulness': 0.8181818181818182}]"
            ]
          },
          "metadata": {},
          "execution_count": 151
        }
      ]
    },
    {
      "cell_type": "code",
      "execution_count": 152,
      "id": "d661f6b9-04c7-40b7-874b-25f53cfab9d9",
      "metadata": {
        "colab": {
          "base_uri": "https://localhost:8080/"
        },
        "id": "d661f6b9-04c7-40b7-874b-25f53cfab9d9",
        "outputId": "61bdd124-6ef0-4f99-a59b-3c1ee217d8bb"
      },
      "outputs": [
        {
          "output_type": "stream",
          "name": "stdout",
          "text": [
            "evaluating...\n"
          ]
        },
        {
          "output_type": "execute_result",
          "data": {
            "text/plain": [
              "[{'question': 'What is Artificial Intelligence (AI)?',\n",
              "  'answer': 'Artificial Intelligence (AI) involves the design of systems and software capable of performing tasks that usually require human intelligence. These tasks include learning, logical thinking, problem-solving, planning, recognizing speech and images, translating languages, and even creativity. AI has evolved significantly since its inception and is now deeply integrated into various aspects of our daily lives, from smart assistants to medical applications and scientific research.',\n",
              "  'contexts': ['Artificial Intelligence and Its Impact on the Future\\n\\nArtificial intelligence (AI) is one of the most fascinating and debated fields in technology. It involves the design of systems and software capable of performing tasks that usually require human intelligence. These tasks include learning, logical thinking, problem-solving, planning, recognizing speech and images, translating languages, and even creativity.\\n\\nAI has come a long way since it first emerged as an idea in the minds of scientists and philosophers. In the 1950s, the concept of AI was introduced by pioneers like Alan Turing, who proposed a test to measure the ability of machines to mimic human intelligence, now known as the \"Turing Test.\" Since then, intelligent systems have achieved significant progress across various domains.',\n",
              "   'Today, AI is deeply integrated into almost every aspect of our daily lives. From smart assistants like Siri and Alexa to medical applications that use AI for early disease diagnosis, and scientific research leveraging AI to analyze data and discover new drugs. AI has also contributed to the development of self-driving cars, security and surveillance systems, and even art and creativity, such as generating music and painting using AI.',\n",
              "   'There is also growing concern that AI might exacerbate social and economic inequalities, as countries and companies with access to AI technologies will have a competitive edge over others. Moreover, questions arise about legal responsibility when an AI system makes a mistake, such as in an autonomous vehicle accident.\\n\\nThe Future of AI\\nThe future of AI appears promising but is fraught with challenges. As research in the field progresses, AI is expected to become more capable of simulating human cognitive processes in deeper and more complex ways. In the near future, we may see the development of systems capable of making more accurate decisions in areas such as healthcare, scientific research, and even politics.',\n",
              "   'The Economic Impact of AI\\nAI’s impact on the economy will be profound. In the near future, companies will be able to use AI to improve productivity and reduce costs, leading to higher profits. Machines and intelligent systems will be able to perform many of the tasks previously handled by humans, improving efficiency and delivering products and services faster and more accurately. However, this technological advancement could also lead to the elimination of some traditional jobs, raising concerns about its impact on the job market. While AI will create new job opportunities in fields such as programming, data analysis, and cybersecurity, some simple jobs might disappear in the future.'],\n",
              "  'ground_truth': 'Artificial Intelligence (AI) is the simulation of human intelligence in machines designed to think, learn, and perform tasks typically requiring human cognition, such as problem-solving, learning, decision-making, and language understanding.',\n",
              "  'context_recall': 1.0},\n",
              " {'question': 'How has AI impacted various industries?',\n",
              "  'answer': 'AI has had a significant impact on various industries by improving productivity, efficiency, and innovation. In healthcare, AI is being used for early disease diagnosis, personalized treatment plans, and drug discovery. In finance, AI is utilized for fraud detection, algorithmic trading, and customer service chatbots. In manufacturing, AI is improving automation, predictive maintenance, and quality control. In retail, AI is enhancing customer experience through personalized recommendations and inventory management. In transportation, AI is driving advancements in self-driving cars and optimizing logistics. Overall, AI is transforming industries by streamlining processes, reducing costs, and enabling new capabilities.',\n",
              "  'contexts': ['The Economic Impact of AI\\nAI’s impact on the economy will be profound. In the near future, companies will be able to use AI to improve productivity and reduce costs, leading to higher profits. Machines and intelligent systems will be able to perform many of the tasks previously handled by humans, improving efficiency and delivering products and services faster and more accurately. However, this technological advancement could also lead to the elimination of some traditional jobs, raising concerns about its impact on the job market. While AI will create new job opportunities in fields such as programming, data analysis, and cybersecurity, some simple jobs might disappear in the future.',\n",
              "   'There is also growing concern that AI might exacerbate social and economic inequalities, as countries and companies with access to AI technologies will have a competitive edge over others. Moreover, questions arise about legal responsibility when an AI system makes a mistake, such as in an autonomous vehicle accident.\\n\\nThe Future of AI\\nThe future of AI appears promising but is fraught with challenges. As research in the field progresses, AI is expected to become more capable of simulating human cognitive processes in deeper and more complex ways. In the near future, we may see the development of systems capable of making more accurate decisions in areas such as healthcare, scientific research, and even politics.',\n",
              "   'However, societies and governments must be prepared to face the challenges that these technological changes may bring. It is crucial to develop laws and regulations that govern the use of AI and ensure that these technologies are used responsibly and safely for the benefit of all humanity.',\n",
              "   'Today, AI is deeply integrated into almost every aspect of our daily lives. From smart assistants like Siri and Alexa to medical applications that use AI for early disease diagnosis, and scientific research leveraging AI to analyze data and discover new drugs. AI has also contributed to the development of self-driving cars, security and surveillance systems, and even art and creativity, such as generating music and painting using AI.'],\n",
              "  'ground_truth': 'AI has significantly impacted various industries such as healthcare, entertainment, finance, and education. It is used to enhance productivity, make accurate predictions, improve customer experiences, and optimize operations. For example, AI systems assist in disease diagnosis, improve user recommendations in streaming services, and enhance financial modeling and analysis.',\n",
              "  'context_recall': 0.3333333333333333},\n",
              " {'question': 'What are the potential risks associated with AI?',\n",
              "  'answer': 'Some potential risks associated with AI include:\\n\\n1. Job Displacement: AI advancements could lead to the elimination of traditional jobs, potentially causing unemployment and economic disruption in certain sectors.\\n\\n2. Social and Economic Inequalities: Access to AI technologies may create disparities between countries and companies, leading to increased inequality.\\n\\n3. Legal and Ethical Concerns: Questions about legal responsibility arise when AI systems make mistakes, such as in autonomous vehicle accidents, raising ethical and legal challenges.\\n\\n4. Privacy and Security: AI systems may pose risks to privacy and security if not properly regulated, leading to concerns about data breaches and misuse of personal information.\\n\\n5. Bias and Discrimination: AI algorithms can inherit biases from the data they are trained on, potentially leading to discriminatory outcomes in areas like hiring, lending, and criminal justice.\\n\\n6. Autonomous Weapons: The development of AI-powered autonomous weapons raises concerns about the potential for misuse and lack of human control in military operations.\\n\\nThese risks highlight the importance of developing regulations and ethical guidelines to ensure the responsible and safe use of AI technologies.',\n",
              "  'contexts': ['The Economic Impact of AI\\nAI’s impact on the economy will be profound. In the near future, companies will be able to use AI to improve productivity and reduce costs, leading to higher profits. Machines and intelligent systems will be able to perform many of the tasks previously handled by humans, improving efficiency and delivering products and services faster and more accurately. However, this technological advancement could also lead to the elimination of some traditional jobs, raising concerns about its impact on the job market. While AI will create new job opportunities in fields such as programming, data analysis, and cybersecurity, some simple jobs might disappear in the future.',\n",
              "   'There is also growing concern that AI might exacerbate social and economic inequalities, as countries and companies with access to AI technologies will have a competitive edge over others. Moreover, questions arise about legal responsibility when an AI system makes a mistake, such as in an autonomous vehicle accident.\\n\\nThe Future of AI\\nThe future of AI appears promising but is fraught with challenges. As research in the field progresses, AI is expected to become more capable of simulating human cognitive processes in deeper and more complex ways. In the near future, we may see the development of systems capable of making more accurate decisions in areas such as healthcare, scientific research, and even politics.',\n",
              "   'However, societies and governments must be prepared to face the challenges that these technological changes may bring. It is crucial to develop laws and regulations that govern the use of AI and ensure that these technologies are used responsibly and safely for the benefit of all humanity.',\n",
              "   'Today, AI is deeply integrated into almost every aspect of our daily lives. From smart assistants like Siri and Alexa to medical applications that use AI for early disease diagnosis, and scientific research leveraging AI to analyze data and discover new drugs. AI has also contributed to the development of self-driving cars, security and surveillance systems, and even art and creativity, such as generating music and painting using AI.'],\n",
              "  'ground_truth': 'The potential risks associated with AI include security concerns, such as the use of AI for malicious purposes (e.g., cyberattacks or autonomous weapons). There are also concerns about job displacement, increased inequalities, and the ethical dilemmas surrounding AI decision-making, particularly in areas like autonomous vehicles and surveillance.',\n",
              "  'context_recall': 1.0},\n",
              " {'question': 'What is the future outlook for AI technology?',\n",
              "  'answer': 'The future outlook for AI technology is promising but also comes with challenges. As research progresses, AI is expected to become more capable of simulating human cognitive processes in deeper and more complex ways. This could lead to the development of systems capable of making more accurate decisions in areas such as healthcare, scientific research, and politics. However, societies and governments must be prepared to address the challenges that these advancements may bring, including the need for laws and regulations to govern the responsible and safe use of AI for the benefit of all humanity.',\n",
              "  'contexts': ['The Economic Impact of AI\\nAI’s impact on the economy will be profound. In the near future, companies will be able to use AI to improve productivity and reduce costs, leading to higher profits. Machines and intelligent systems will be able to perform many of the tasks previously handled by humans, improving efficiency and delivering products and services faster and more accurately. However, this technological advancement could also lead to the elimination of some traditional jobs, raising concerns about its impact on the job market. While AI will create new job opportunities in fields such as programming, data analysis, and cybersecurity, some simple jobs might disappear in the future.',\n",
              "   'There is also growing concern that AI might exacerbate social and economic inequalities, as countries and companies with access to AI technologies will have a competitive edge over others. Moreover, questions arise about legal responsibility when an AI system makes a mistake, such as in an autonomous vehicle accident.\\n\\nThe Future of AI\\nThe future of AI appears promising but is fraught with challenges. As research in the field progresses, AI is expected to become more capable of simulating human cognitive processes in deeper and more complex ways. In the near future, we may see the development of systems capable of making more accurate decisions in areas such as healthcare, scientific research, and even politics.',\n",
              "   'However, societies and governments must be prepared to face the challenges that these technological changes may bring. It is crucial to develop laws and regulations that govern the use of AI and ensure that these technologies are used responsibly and safely for the benefit of all humanity.',\n",
              "   'Artificial Intelligence and Its Impact on the Future\\n\\nArtificial intelligence (AI) is one of the most fascinating and debated fields in technology. It involves the design of systems and software capable of performing tasks that usually require human intelligence. These tasks include learning, logical thinking, problem-solving, planning, recognizing speech and images, translating languages, and even creativity.\\n\\nAI has come a long way since it first emerged as an idea in the minds of scientists and philosophers. In the 1950s, the concept of AI was introduced by pioneers like Alan Turing, who proposed a test to measure the ability of machines to mimic human intelligence, now known as the \"Turing Test.\" Since then, intelligent systems have achieved significant progress across various domains.'],\n",
              "  'ground_truth': \"The future of AI looks promising, with expected advancements in cognitive simulation, enhancing its role in scientific research, healthcare, business, and more. However, there are challenges related to governance, ethics, and regulation that need to be addressed to ensure AI's responsible and safe development.\",\n",
              "  'context_recall': 1.0},\n",
              " {'question': 'How is AI used in education?',\n",
              "  'answer': \"AI is used in education in various ways to enhance learning experiences. Some of the key applications of AI in education include:\\n\\n1. Personalized Learning: AI systems can analyze students' learning patterns and behaviors to provide personalized learning materials and resources tailored to their individual needs and pace.\\n\\n2. Intelligent Tutoring Systems: AI-powered tutoring systems can offer interactive and adaptive learning experiences, providing immediate feedback and guidance to students as they progress through educational content.\\n\\n3. Virtual Classrooms: AI can facilitate remote learning by managing virtual classrooms, assisting teachers in tracking student progress, and offering precise evaluations to enhance the overall learning experience.\\n\\n4. Educational Robots: Some schools use educational robots to teach complex scientific and technological concepts interactively, engaging students in hands-on learning experiences.\\n\\nOverall, AI in education aims to make learning more engaging, personalized, and effective by leveraging intelligent systems to support both students and teachers in the educational process.\",\n",
              "  'contexts': [\"AI in Education\\nIn the field of education, AI is a powerful tool for customizing learning methods based on students' needs. Intelligent systems can monitor students' progress and provide personalized educational resources to enhance their skills. Additionally, educational robots are being used in some schools to teach students complex scientific and technological concepts interactively.\\n\\nAI can also improve remote learning opportunities, where intelligent systems can manage virtual classrooms, assist teachers in tracking student progress, and offer precise evaluations. This allows students to have more personalized and accurate learning experiences.\\n\\nChallenges and Potential Risks\\nWhile AI offers numerous benefits, it also presents several concerns. One of the main challenges is security, as AI systems could be used for malicious purposes or pose national security threats. For example, AI could be employed to develop autonomous weapons or conduct sophisticated cyber-attacks.\",\n",
              "   'Artificial Intelligence and Its Impact on the Future\\n\\nArtificial intelligence (AI) is one of the most fascinating and debated fields in technology. It involves the design of systems and software capable of performing tasks that usually require human intelligence. These tasks include learning, logical thinking, problem-solving, planning, recognizing speech and images, translating languages, and even creativity.\\n\\nAI has come a long way since it first emerged as an idea in the minds of scientists and philosophers. In the 1950s, the concept of AI was introduced by pioneers like Alan Turing, who proposed a test to measure the ability of machines to mimic human intelligence, now known as the \"Turing Test.\" Since then, intelligent systems have achieved significant progress across various domains.',\n",
              "   'Today, AI is deeply integrated into almost every aspect of our daily lives. From smart assistants like Siri and Alexa to medical applications that use AI for early disease diagnosis, and scientific research leveraging AI to analyze data and discover new drugs. AI has also contributed to the development of self-driving cars, security and surveillance systems, and even art and creativity, such as generating music and painting using AI.',\n",
              "   'AI in Daily Life\\nIn our daily lives, AI has become an integral part of many devices and systems that we use. Smartphones today are equipped with features that rely heavily on AI, such as voice assistants, calendar management, and text and image analysis. For instance, programs like Google Assistant and Apple Siri can interact with users, answer questions, help locate places, or send text messages.\\n\\nAI has also added new dimensions to the entertainment industry, such as augmented reality films and games that use advanced algorithms to create personalized experiences for players. Streaming platforms like Netflix and Spotify use AI algorithms to analyze user preferences and provide tailored recommendations.'],\n",
              "  'ground_truth': 'AI is used in education to personalize learning experiences, help track student progress, and offer customized resources. It also supports remote learning, assists teachers in managing virtual classrooms, and provides accurate evaluations, creating more efficient and tailored educational systems.',\n",
              "  'context_recall': 1.0}]"
            ]
          },
          "metadata": {},
          "execution_count": 152
        }
      ],
      "source": [
        "# evaluate context recall\n",
        "print(\"evaluating...\")\n",
        "# r = context_recall_chain.evaluate(examples, predictions) # This line is causing the error\n",
        "r = []\n",
        "for i, prediction in enumerate(updated_predictions):\n",
        "    # Add the ground truth to the prediction dictionary\n",
        "    prediction[\"ground_truth\"] = examples[i][\"ground_truths\"][0]\n",
        "    # Now call context_recall_chain with the complete prediction\n",
        "    r.append(context_recall_chain(prediction))\n",
        "r"
      ]
    }
  ],
  "metadata": {
    "kernelspec": {
      "display_name": "Python 3 (ipykernel)",
      "language": "python",
      "name": "python3"
    },
    "language_info": {
      "codemirror_mode": {
        "name": "ipython",
        "version": 3
      },
      "file_extension": ".py",
      "mimetype": "text/x-python",
      "name": "python",
      "nbconvert_exporter": "python",
      "pygments_lexer": "ipython3",
      "version": "3.11.8"
    },
    "colab": {
      "provenance": []
    }
  },
  "nbformat": 4,
  "nbformat_minor": 5
}